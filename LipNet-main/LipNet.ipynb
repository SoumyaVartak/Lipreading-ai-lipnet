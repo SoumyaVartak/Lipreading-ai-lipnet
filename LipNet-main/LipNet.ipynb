{
 "cells": [
  {
   "cell_type": "code",
   "execution_count": 2,
   "id": "b429b013",
   "metadata": {},
   "outputs": [
    {
     "name": "stdout",
     "output_type": "stream",
     "text": [
      "^C\n",
      "Note: you may need to restart the kernel to use updated packages.\n"
     ]
    }
   ],
   "source": [
    "!pip install opencv-python==4.6.0.66 matplotlib==3.6.2 imageio==2.23.0 gdown==4.6.0 tensorflow==2.10.1 --upgrade tensorboard keras"
   ]
  },
  {
   "cell_type": "code",
   "execution_count": 1,
   "id": "b983b4d2",
   "metadata": {},
   "outputs": [
    {
     "name": "stdout",
     "output_type": "stream",
     "text": [
      "Package                      Version\n",
      "---------------------------- ------------\n",
      "absl-py                      2.0.0\n",
      "altair                       5.2.0\n",
      "anyio                        4.1.0\n",
      "argon2-cffi                  23.1.0\n",
      "argon2-cffi-bindings         21.2.0\n",
      "arrow                        1.3.0\n",
      "asttokens                    2.4.1\n",
      "astunparse                   1.6.3\n",
      "async-lru                    2.0.4\n",
      "attrs                        23.1.0\n",
      "Babel                        2.13.1\n",
      "beautifulsoup4               4.12.2\n",
      "bleach                       6.1.0\n",
      "blinker                      1.7.0\n",
      "cachetools                   5.3.2\n",
      "certifi                      2023.11.17\n",
      "cffi                         1.16.0\n",
      "charset-normalizer           3.3.2\n",
      "click                        8.1.7\n",
      "colorama                     0.4.6\n",
      "comm                         0.2.0\n",
      "contourpy                    1.2.0\n",
      "cycler                       0.12.1\n",
      "debugpy                      1.8.0\n",
      "decorator                    5.1.1\n",
      "defusedxml                   0.7.1\n",
      "exceptiongroup               1.2.0\n",
      "executing                    2.0.1\n",
      "fastjsonschema               2.19.0\n",
      "filelock                     3.13.1\n",
      "flatbuffers                  23.5.26\n",
      "fonttools                    4.45.1\n",
      "fqdn                         1.5.1\n",
      "gast                         0.4.0\n",
      "gdown                        4.6.0\n",
      "gitdb                        4.0.11\n",
      "GitPython                    3.1.40\n",
      "google-auth                  2.23.4\n",
      "google-auth-oauthlib         0.4.6\n",
      "google-pasta                 0.2.0\n",
      "grpcio                       1.59.3\n",
      "h5py                         3.10.0\n",
      "idna                         3.6\n",
      "imageio                      2.23.0\n",
      "importlib-metadata           6.8.0\n",
      "ipykernel                    6.27.1\n",
      "ipython                      8.18.1\n",
      "isoduration                  20.11.0\n",
      "jedi                         0.19.1\n",
      "Jinja2                       3.1.2\n",
      "json5                        0.9.14\n",
      "jsonpointer                  2.4\n",
      "jsonschema                   4.20.0\n",
      "jsonschema-specifications    2023.11.1\n",
      "jupyter_client               8.6.0\n",
      "jupyter_core                 5.5.0\n",
      "jupyter-events               0.9.0\n",
      "jupyter-lsp                  2.2.1\n",
      "jupyter_server               2.11.1\n",
      "jupyter_server_terminals     0.4.4\n",
      "jupyterlab                   4.0.9\n",
      "jupyterlab_pygments          0.3.0\n",
      "jupyterlab_server            2.25.2\n",
      "keras                        2.10.0\n",
      "Keras-Preprocessing          1.1.2\n",
      "kiwisolver                   1.4.5\n",
      "libclang                     16.0.6\n",
      "Markdown                     3.5.1\n",
      "markdown-it-py               3.0.0\n",
      "MarkupSafe                   2.1.3\n",
      "matplotlib                   3.6.2\n",
      "matplotlib-inline            0.1.6\n",
      "mdurl                        0.1.2\n",
      "mistune                      3.0.2\n",
      "ml-dtypes                    0.2.0\n",
      "mpmath                       1.2.1\n",
      "nbclient                     0.9.0\n",
      "nbconvert                    7.11.0\n",
      "nbformat                     5.9.2\n",
      "nest-asyncio                 1.5.8\n",
      "notebook                     7.0.6\n",
      "notebook_shim                0.2.3\n",
      "numpy                        1.26.2\n",
      "oauthlib                     3.2.2\n",
      "opencv-python                4.6.0.66\n",
      "opt-einsum                   3.3.0\n",
      "overrides                    7.4.0\n",
      "packaging                    23.2\n",
      "pandas                       2.1.3\n",
      "pandocfilters                1.5.0\n",
      "parso                        0.8.3\n",
      "Pillow                       10.1.0\n",
      "pip                          23.3.1\n",
      "platformdirs                 4.0.0\n",
      "prometheus-client            0.19.0\n",
      "prompt-toolkit               3.0.41\n",
      "protobuf                     3.19.6\n",
      "psutil                       5.9.6\n",
      "pure-eval                    0.2.2\n",
      "pyarrow                      14.0.1\n",
      "pyasn1                       0.5.1\n",
      "pyasn1-modules               0.3.0\n",
      "pycparser                    2.21\n",
      "pydeck                       0.8.1b0\n",
      "Pygments                     2.17.2\n",
      "pyparsing                    3.1.1\n",
      "PySocks                      1.7.1\n",
      "python-dateutil              2.8.2\n",
      "python-json-logger           2.0.7\n",
      "pytz                         2023.3.post1\n",
      "pywin32                      306\n",
      "pywinpty                     2.0.12\n",
      "PyYAML                       6.0.1\n",
      "pyzmq                        25.1.1\n",
      "referencing                  0.31.1\n",
      "requests                     2.31.0\n",
      "requests-oauthlib            1.3.1\n",
      "rfc3339-validator            0.1.4\n",
      "rfc3986-validator            0.1.1\n",
      "rich                         13.7.0\n",
      "rpds-py                      0.13.2\n",
      "rsa                          4.9\n",
      "Send2Trash                   1.8.2\n",
      "setuptools                   63.2.0\n",
      "six                          1.16.0\n",
      "smmap                        5.0.1\n",
      "sniffio                      1.3.0\n",
      "soupsieve                    2.5\n",
      "stack-data                   0.6.3\n",
      "streamlit                    1.28.2\n",
      "sympy                        1.11.1\n",
      "tenacity                     8.2.3\n",
      "tensorboard                  2.10.1\n",
      "tensorboard-data-server      0.6.1\n",
      "tensorboard-plugin-wit       1.8.1\n",
      "tensorflow-estimator         2.10.0\n",
      "tensorflow-intel             2.15.0\n",
      "tensorflow-io-gcs-filesystem 0.31.0\n",
      "termcolor                    2.3.0\n",
      "terminado                    0.18.0\n",
      "tinycss2                     1.2.1\n",
      "toml                         0.10.2\n",
      "tomli                        2.0.1\n",
      "toolz                        0.12.0\n",
      "tornado                      6.4\n",
      "tqdm                         4.66.1\n",
      "traitlets                    5.14.0\n",
      "types-python-dateutil        2.8.19.14\n",
      "typing_extensions            4.8.0\n",
      "tzdata                       2023.3\n",
      "tzlocal                      5.2\n",
      "uri-template                 1.3.0\n",
      "urllib3                      2.1.0\n",
      "validators                   0.22.0\n",
      "watchdog                     3.0.0\n",
      "wcwidth                      0.2.12\n",
      "webcolors                    1.13\n",
      "webencodings                 0.5.1\n",
      "websocket-client             1.6.4\n",
      "Werkzeug                     3.0.1\n",
      "wheel                        0.42.0\n",
      "wrapt                        1.14.1\n",
      "zipp                         3.17.0\n"
     ]
    },
    {
     "name": "stderr",
     "output_type": "stream",
     "text": [
      "WARNING: Ignoring invalid distribution -ensorflow (c:\\users\\saumy\\appdata\\local\\programs\\python\\python310\\lib\\site-packages)\n"
     ]
    }
   ],
   "source": [
    "!pip list"
   ]
  },
  {
   "cell_type": "code",
   "execution_count": 4,
   "id": "942c5a8e",
   "metadata": {},
   "outputs": [],
   "source": [
    "import os\n",
    "import cv2\n",
    "import tensorflow as tf\n",
    "import numpy as np\n",
    "from typing import List\n",
    "from matplotlib import pyplot as plt\n",
    "import imageio"
   ]
  },
  {
   "cell_type": "code",
   "execution_count": 5,
   "id": "29651ca1",
   "metadata": {},
   "outputs": [],
   "source": [
    "physical_devices = tf.config.list_physical_devices('GPU')\n",
    "\n",
    "try:\n",
    "    tf.config.experimental.set_memory_growth(physical_devices[0], True)\n",
    "except:\n",
    "    pass"
   ]
  },
  {
   "cell_type": "markdown",
   "id": "4b90b063",
   "metadata": {},
   "source": [
    "# Build Data Loading Functions"
   ]
  },
  {
   "cell_type": "code",
   "execution_count": 6,
   "id": "651929e2",
   "metadata": {},
   "outputs": [],
   "source": [
    "import gdown"
   ]
  },
  {
   "cell_type": "code",
   "execution_count": 7,
   "id": "a6fa7bbd",
   "metadata": {},
   "outputs": [
    {
     "name": "stderr",
     "output_type": "stream",
     "text": [
      "Downloading...\n",
      "From: https://drive.google.com/uc?id=1YlvpDLix3S-U8fd-gqRwPcWXAXm8JwjL\n",
      "To: c:\\lip2\\LipNet-main\\data.zip\n",
      " 10%|█         | 43.0M/423M [00:03<00:31, 12.1MB/s]"
     ]
    },
    {
     "ename": "KeyboardInterrupt",
     "evalue": "",
     "output_type": "error",
     "traceback": [
      "\u001b[1;31m---------------------------------------------------------------------------\u001b[0m",
      "\u001b[1;31mKeyboardInterrupt\u001b[0m                         Traceback (most recent call last)",
      "\u001b[1;32mc:\\lip2\\LipNet-main\\LipNet.ipynb Cell 7\u001b[0m line \u001b[0;36m3\n\u001b[0;32m      <a href='vscode-notebook-cell:/c%3A/lip2/LipNet-main/LipNet.ipynb#W6sZmlsZQ%3D%3D?line=0'>1</a>\u001b[0m url \u001b[39m=\u001b[39m \u001b[39m'\u001b[39m\u001b[39mhttps://drive.google.com/uc?id=1YlvpDLix3S-U8fd-gqRwPcWXAXm8JwjL\u001b[39m\u001b[39m'\u001b[39m\n\u001b[0;32m      <a href='vscode-notebook-cell:/c%3A/lip2/LipNet-main/LipNet.ipynb#W6sZmlsZQ%3D%3D?line=1'>2</a>\u001b[0m output \u001b[39m=\u001b[39m \u001b[39m'\u001b[39m\u001b[39mdata.zip\u001b[39m\u001b[39m'\u001b[39m\n\u001b[1;32m----> <a href='vscode-notebook-cell:/c%3A/lip2/LipNet-main/LipNet.ipynb#W6sZmlsZQ%3D%3D?line=2'>3</a>\u001b[0m gdown\u001b[39m.\u001b[39;49mdownload(url, output, quiet\u001b[39m=\u001b[39;49m\u001b[39mFalse\u001b[39;49;00m)\n\u001b[0;32m      <a href='vscode-notebook-cell:/c%3A/lip2/LipNet-main/LipNet.ipynb#W6sZmlsZQ%3D%3D?line=3'>4</a>\u001b[0m gdown\u001b[39m.\u001b[39mextractall(\u001b[39m'\u001b[39m\u001b[39mdata.zip\u001b[39m\u001b[39m'\u001b[39m)\n",
      "File \u001b[1;32mc:\\Users\\saumy\\AppData\\Local\\Programs\\Python\\Python310\\lib\\site-packages\\gdown\\download.py:270\u001b[0m, in \u001b[0;36mdownload\u001b[1;34m(url, output, quiet, proxy, speed, use_cookies, verify, id, fuzzy, resume)\u001b[0m\n\u001b[0;32m    268\u001b[0m     pbar \u001b[39m=\u001b[39m tqdm\u001b[39m.\u001b[39mtqdm(total\u001b[39m=\u001b[39mtotal, unit\u001b[39m=\u001b[39m\u001b[39m\"\u001b[39m\u001b[39mB\u001b[39m\u001b[39m\"\u001b[39m, unit_scale\u001b[39m=\u001b[39m\u001b[39mTrue\u001b[39;00m)\n\u001b[0;32m    269\u001b[0m t_start \u001b[39m=\u001b[39m time\u001b[39m.\u001b[39mtime()\n\u001b[1;32m--> 270\u001b[0m \u001b[39mfor\u001b[39;00m chunk \u001b[39min\u001b[39;00m res\u001b[39m.\u001b[39miter_content(chunk_size\u001b[39m=\u001b[39mCHUNK_SIZE):\n\u001b[0;32m    271\u001b[0m     f\u001b[39m.\u001b[39mwrite(chunk)\n\u001b[0;32m    272\u001b[0m     \u001b[39mif\u001b[39;00m \u001b[39mnot\u001b[39;00m quiet:\n",
      "File \u001b[1;32mc:\\Users\\saumy\\AppData\\Local\\Programs\\Python\\Python310\\lib\\site-packages\\requests\\models.py:816\u001b[0m, in \u001b[0;36mResponse.iter_content.<locals>.generate\u001b[1;34m()\u001b[0m\n\u001b[0;32m    814\u001b[0m \u001b[39mif\u001b[39;00m \u001b[39mhasattr\u001b[39m(\u001b[39mself\u001b[39m\u001b[39m.\u001b[39mraw, \u001b[39m\"\u001b[39m\u001b[39mstream\u001b[39m\u001b[39m\"\u001b[39m):\n\u001b[0;32m    815\u001b[0m     \u001b[39mtry\u001b[39;00m:\n\u001b[1;32m--> 816\u001b[0m         \u001b[39myield from\u001b[39;00m \u001b[39mself\u001b[39m\u001b[39m.\u001b[39mraw\u001b[39m.\u001b[39mstream(chunk_size, decode_content\u001b[39m=\u001b[39m\u001b[39mTrue\u001b[39;00m)\n\u001b[0;32m    817\u001b[0m     \u001b[39mexcept\u001b[39;00m ProtocolError \u001b[39mas\u001b[39;00m e:\n\u001b[0;32m    818\u001b[0m         \u001b[39mraise\u001b[39;00m ChunkedEncodingError(e)\n",
      "File \u001b[1;32mc:\\Users\\saumy\\AppData\\Local\\Programs\\Python\\Python310\\lib\\site-packages\\urllib3\\response.py:934\u001b[0m, in \u001b[0;36mHTTPResponse.stream\u001b[1;34m(self, amt, decode_content)\u001b[0m\n\u001b[0;32m    932\u001b[0m \u001b[39melse\u001b[39;00m:\n\u001b[0;32m    933\u001b[0m     \u001b[39mwhile\u001b[39;00m \u001b[39mnot\u001b[39;00m is_fp_closed(\u001b[39mself\u001b[39m\u001b[39m.\u001b[39m_fp) \u001b[39mor\u001b[39;00m \u001b[39mlen\u001b[39m(\u001b[39mself\u001b[39m\u001b[39m.\u001b[39m_decoded_buffer) \u001b[39m>\u001b[39m \u001b[39m0\u001b[39m:\n\u001b[1;32m--> 934\u001b[0m         data \u001b[39m=\u001b[39m \u001b[39mself\u001b[39;49m\u001b[39m.\u001b[39;49mread(amt\u001b[39m=\u001b[39;49mamt, decode_content\u001b[39m=\u001b[39;49mdecode_content)\n\u001b[0;32m    936\u001b[0m         \u001b[39mif\u001b[39;00m data:\n\u001b[0;32m    937\u001b[0m             \u001b[39myield\u001b[39;00m data\n",
      "File \u001b[1;32mc:\\Users\\saumy\\AppData\\Local\\Programs\\Python\\Python310\\lib\\site-packages\\urllib3\\response.py:877\u001b[0m, in \u001b[0;36mHTTPResponse.read\u001b[1;34m(self, amt, decode_content, cache_content)\u001b[0m\n\u001b[0;32m    874\u001b[0m     \u001b[39mif\u001b[39;00m \u001b[39mlen\u001b[39m(\u001b[39mself\u001b[39m\u001b[39m.\u001b[39m_decoded_buffer) \u001b[39m>\u001b[39m\u001b[39m=\u001b[39m amt:\n\u001b[0;32m    875\u001b[0m         \u001b[39mreturn\u001b[39;00m \u001b[39mself\u001b[39m\u001b[39m.\u001b[39m_decoded_buffer\u001b[39m.\u001b[39mget(amt)\n\u001b[1;32m--> 877\u001b[0m data \u001b[39m=\u001b[39m \u001b[39mself\u001b[39;49m\u001b[39m.\u001b[39;49m_raw_read(amt)\n\u001b[0;32m    879\u001b[0m flush_decoder \u001b[39m=\u001b[39m amt \u001b[39mis\u001b[39;00m \u001b[39mNone\u001b[39;00m \u001b[39mor\u001b[39;00m (amt \u001b[39m!=\u001b[39m \u001b[39m0\u001b[39m \u001b[39mand\u001b[39;00m \u001b[39mnot\u001b[39;00m data)\n\u001b[0;32m    881\u001b[0m \u001b[39mif\u001b[39;00m \u001b[39mnot\u001b[39;00m data \u001b[39mand\u001b[39;00m \u001b[39mlen\u001b[39m(\u001b[39mself\u001b[39m\u001b[39m.\u001b[39m_decoded_buffer) \u001b[39m==\u001b[39m \u001b[39m0\u001b[39m:\n",
      "File \u001b[1;32mc:\\Users\\saumy\\AppData\\Local\\Programs\\Python\\Python310\\lib\\site-packages\\urllib3\\response.py:812\u001b[0m, in \u001b[0;36mHTTPResponse._raw_read\u001b[1;34m(self, amt)\u001b[0m\n\u001b[0;32m    809\u001b[0m fp_closed \u001b[39m=\u001b[39m \u001b[39mgetattr\u001b[39m(\u001b[39mself\u001b[39m\u001b[39m.\u001b[39m_fp, \u001b[39m\"\u001b[39m\u001b[39mclosed\u001b[39m\u001b[39m\"\u001b[39m, \u001b[39mFalse\u001b[39;00m)\n\u001b[0;32m    811\u001b[0m \u001b[39mwith\u001b[39;00m \u001b[39mself\u001b[39m\u001b[39m.\u001b[39m_error_catcher():\n\u001b[1;32m--> 812\u001b[0m     data \u001b[39m=\u001b[39m \u001b[39mself\u001b[39;49m\u001b[39m.\u001b[39;49m_fp_read(amt) \u001b[39mif\u001b[39;00m \u001b[39mnot\u001b[39;00m fp_closed \u001b[39melse\u001b[39;00m \u001b[39mb\u001b[39m\u001b[39m\"\u001b[39m\u001b[39m\"\u001b[39m\n\u001b[0;32m    813\u001b[0m     \u001b[39mif\u001b[39;00m amt \u001b[39mis\u001b[39;00m \u001b[39mnot\u001b[39;00m \u001b[39mNone\u001b[39;00m \u001b[39mand\u001b[39;00m amt \u001b[39m!=\u001b[39m \u001b[39m0\u001b[39m \u001b[39mand\u001b[39;00m \u001b[39mnot\u001b[39;00m data:\n\u001b[0;32m    814\u001b[0m         \u001b[39m# Platform-specific: Buggy versions of Python.\u001b[39;00m\n\u001b[0;32m    815\u001b[0m         \u001b[39m# Close the connection when no data is returned\u001b[39;00m\n\u001b[1;32m   (...)\u001b[0m\n\u001b[0;32m    820\u001b[0m         \u001b[39m# not properly close the connection in all cases. There is\u001b[39;00m\n\u001b[0;32m    821\u001b[0m         \u001b[39m# no harm in redundantly calling close.\u001b[39;00m\n\u001b[0;32m    822\u001b[0m         \u001b[39mself\u001b[39m\u001b[39m.\u001b[39m_fp\u001b[39m.\u001b[39mclose()\n",
      "File \u001b[1;32mc:\\Users\\saumy\\AppData\\Local\\Programs\\Python\\Python310\\lib\\site-packages\\urllib3\\response.py:797\u001b[0m, in \u001b[0;36mHTTPResponse._fp_read\u001b[1;34m(self, amt)\u001b[0m\n\u001b[0;32m    794\u001b[0m     \u001b[39mreturn\u001b[39;00m buffer\u001b[39m.\u001b[39mgetvalue()\n\u001b[0;32m    795\u001b[0m \u001b[39melse\u001b[39;00m:\n\u001b[0;32m    796\u001b[0m     \u001b[39m# StringIO doesn't like amt=None\u001b[39;00m\n\u001b[1;32m--> 797\u001b[0m     \u001b[39mreturn\u001b[39;00m \u001b[39mself\u001b[39;49m\u001b[39m.\u001b[39;49m_fp\u001b[39m.\u001b[39;49mread(amt) \u001b[39mif\u001b[39;00m amt \u001b[39mis\u001b[39;00m \u001b[39mnot\u001b[39;00m \u001b[39mNone\u001b[39;00m \u001b[39melse\u001b[39;00m \u001b[39mself\u001b[39m\u001b[39m.\u001b[39m_fp\u001b[39m.\u001b[39mread()\n",
      "File \u001b[1;32mc:\\Users\\saumy\\AppData\\Local\\Programs\\Python\\Python310\\lib\\http\\client.py:465\u001b[0m, in \u001b[0;36mHTTPResponse.read\u001b[1;34m(self, amt)\u001b[0m\n\u001b[0;32m    462\u001b[0m \u001b[39mif\u001b[39;00m \u001b[39mself\u001b[39m\u001b[39m.\u001b[39mlength \u001b[39mis\u001b[39;00m \u001b[39mnot\u001b[39;00m \u001b[39mNone\u001b[39;00m \u001b[39mand\u001b[39;00m amt \u001b[39m>\u001b[39m \u001b[39mself\u001b[39m\u001b[39m.\u001b[39mlength:\n\u001b[0;32m    463\u001b[0m     \u001b[39m# clip the read to the \"end of response\"\u001b[39;00m\n\u001b[0;32m    464\u001b[0m     amt \u001b[39m=\u001b[39m \u001b[39mself\u001b[39m\u001b[39m.\u001b[39mlength\n\u001b[1;32m--> 465\u001b[0m s \u001b[39m=\u001b[39m \u001b[39mself\u001b[39;49m\u001b[39m.\u001b[39;49mfp\u001b[39m.\u001b[39;49mread(amt)\n\u001b[0;32m    466\u001b[0m \u001b[39mif\u001b[39;00m \u001b[39mnot\u001b[39;00m s \u001b[39mand\u001b[39;00m amt:\n\u001b[0;32m    467\u001b[0m     \u001b[39m# Ideally, we would raise IncompleteRead if the content-length\u001b[39;00m\n\u001b[0;32m    468\u001b[0m     \u001b[39m# wasn't satisfied, but it might break compatibility.\u001b[39;00m\n\u001b[0;32m    469\u001b[0m     \u001b[39mself\u001b[39m\u001b[39m.\u001b[39m_close_conn()\n",
      "File \u001b[1;32mc:\\Users\\saumy\\AppData\\Local\\Programs\\Python\\Python310\\lib\\socket.py:705\u001b[0m, in \u001b[0;36mSocketIO.readinto\u001b[1;34m(self, b)\u001b[0m\n\u001b[0;32m    703\u001b[0m \u001b[39mwhile\u001b[39;00m \u001b[39mTrue\u001b[39;00m:\n\u001b[0;32m    704\u001b[0m     \u001b[39mtry\u001b[39;00m:\n\u001b[1;32m--> 705\u001b[0m         \u001b[39mreturn\u001b[39;00m \u001b[39mself\u001b[39;49m\u001b[39m.\u001b[39;49m_sock\u001b[39m.\u001b[39;49mrecv_into(b)\n\u001b[0;32m    706\u001b[0m     \u001b[39mexcept\u001b[39;00m timeout:\n\u001b[0;32m    707\u001b[0m         \u001b[39mself\u001b[39m\u001b[39m.\u001b[39m_timeout_occurred \u001b[39m=\u001b[39m \u001b[39mTrue\u001b[39;00m\n",
      "File \u001b[1;32mc:\\Users\\saumy\\AppData\\Local\\Programs\\Python\\Python310\\lib\\ssl.py:1274\u001b[0m, in \u001b[0;36mSSLSocket.recv_into\u001b[1;34m(self, buffer, nbytes, flags)\u001b[0m\n\u001b[0;32m   1270\u001b[0m     \u001b[39mif\u001b[39;00m flags \u001b[39m!=\u001b[39m \u001b[39m0\u001b[39m:\n\u001b[0;32m   1271\u001b[0m         \u001b[39mraise\u001b[39;00m \u001b[39mValueError\u001b[39;00m(\n\u001b[0;32m   1272\u001b[0m           \u001b[39m\"\u001b[39m\u001b[39mnon-zero flags not allowed in calls to recv_into() on \u001b[39m\u001b[39m%s\u001b[39;00m\u001b[39m\"\u001b[39m \u001b[39m%\u001b[39m\n\u001b[0;32m   1273\u001b[0m           \u001b[39mself\u001b[39m\u001b[39m.\u001b[39m\u001b[39m__class__\u001b[39m)\n\u001b[1;32m-> 1274\u001b[0m     \u001b[39mreturn\u001b[39;00m \u001b[39mself\u001b[39;49m\u001b[39m.\u001b[39;49mread(nbytes, buffer)\n\u001b[0;32m   1275\u001b[0m \u001b[39melse\u001b[39;00m:\n\u001b[0;32m   1276\u001b[0m     \u001b[39mreturn\u001b[39;00m \u001b[39msuper\u001b[39m()\u001b[39m.\u001b[39mrecv_into(buffer, nbytes, flags)\n",
      "File \u001b[1;32mc:\\Users\\saumy\\AppData\\Local\\Programs\\Python\\Python310\\lib\\ssl.py:1130\u001b[0m, in \u001b[0;36mSSLSocket.read\u001b[1;34m(self, len, buffer)\u001b[0m\n\u001b[0;32m   1128\u001b[0m \u001b[39mtry\u001b[39;00m:\n\u001b[0;32m   1129\u001b[0m     \u001b[39mif\u001b[39;00m buffer \u001b[39mis\u001b[39;00m \u001b[39mnot\u001b[39;00m \u001b[39mNone\u001b[39;00m:\n\u001b[1;32m-> 1130\u001b[0m         \u001b[39mreturn\u001b[39;00m \u001b[39mself\u001b[39;49m\u001b[39m.\u001b[39;49m_sslobj\u001b[39m.\u001b[39;49mread(\u001b[39mlen\u001b[39;49m, buffer)\n\u001b[0;32m   1131\u001b[0m     \u001b[39melse\u001b[39;00m:\n\u001b[0;32m   1132\u001b[0m         \u001b[39mreturn\u001b[39;00m \u001b[39mself\u001b[39m\u001b[39m.\u001b[39m_sslobj\u001b[39m.\u001b[39mread(\u001b[39mlen\u001b[39m)\n",
      "\u001b[1;31mKeyboardInterrupt\u001b[0m: "
     ]
    }
   ],
   "source": [
    "url = 'https://drive.google.com/uc?id=1YlvpDLix3S-U8fd-gqRwPcWXAXm8JwjL'\n",
    "output = 'data.zip'\n",
    "gdown.download(url, output, quiet=False)\n",
    "gdown.extractall('data.zip')"
   ]
  },
  {
   "cell_type": "code",
   "execution_count": 8,
   "id": "25945db2",
   "metadata": {},
   "outputs": [],
   "source": [
    "def load_video(path: str) -> List[float]:\n",
    "    \n",
    "    cap = cv2.VideoCapture(path)\n",
    "    frames = []\n",
    "    \n",
    "    for _ in range(int(cap.get(cv2.CAP_PROP_FRAME_COUNT))):\n",
    "        ret, frame = cap.read()\n",
    "        frame = tf.image.rgb_to_grayscale(frame)\n",
    "        # Isolating the mouth region using positions\n",
    "        frames.append(frame[190:236,80:220,:])\n",
    "    cap.release()\n",
    "    \n",
    "    mean = tf.math.reduce_mean(frames)\n",
    "    std = tf.math.reduce_std(tf.cast(frames, tf.float32))\n",
    "    \n",
    "    return tf.cast((frames - mean), tf.float32) / std"
   ]
  },
  {
   "cell_type": "code",
   "execution_count": 9,
   "id": "df249623",
   "metadata": {},
   "outputs": [
    {
     "name": "stderr",
     "output_type": "stream",
     "text": [
      " 10%|█         | 44.0M/423M [00:20<00:31, 12.1MB/s]"
     ]
    }
   ],
   "source": [
    "vocab = [x for x in \"abcdefghijklmnopqrstuvwxyz'?!123456789 \"]"
   ]
  },
  {
   "cell_type": "code",
   "execution_count": 10,
   "id": "f80f869c",
   "metadata": {},
   "outputs": [
    {
     "name": "stdout",
     "output_type": "stream",
     "text": [
      "The vocabulary is: ['', 'a', 'b', 'c', 'd', 'e', 'f', 'g', 'h', 'i', 'j', 'k', 'l', 'm', 'n', 'o', 'p', 'q', 'r', 's', 't', 'u', 'v', 'w', 'x', 'y', 'z', \"'\", '?', '!', '1', '2', '3', '4', '5', '6', '7', '8', '9', ' '] (size = 40)\n"
     ]
    }
   ],
   "source": [
    "# oov_token: blank value for character it has not seen before\n",
    "char_to_num = tf.keras.layers.StringLookup(vocabulary=vocab, oov_token=\"\")\n",
    "num_to_char = tf.keras.layers.StringLookup(\n",
    "    vocabulary=char_to_num.get_vocabulary(), oov_token=\"\", invert=True\n",
    ")\n",
    "\n",
    "print(\n",
    "    f\"The vocabulary is: {char_to_num.get_vocabulary()} \"\n",
    "    f\"(size = {char_to_num.vocabulary_size()})\"\n",
    ")"
   ]
  },
  {
   "cell_type": "code",
   "execution_count": 11,
   "id": "70c5bb6f",
   "metadata": {},
   "outputs": [
    {
     "data": {
      "text/plain": [
       "<tf.Tensor: shape=(3,), dtype=int64, numpy=array([ 2,  5, 14], dtype=int64)>"
      ]
     },
     "execution_count": 11,
     "metadata": {},
     "output_type": "execute_result"
    }
   ],
   "source": [
    "char_to_num(['b','e','n'])"
   ]
  },
  {
   "cell_type": "code",
   "execution_count": 12,
   "id": "67a7b78f",
   "metadata": {},
   "outputs": [
    {
     "data": {
      "text/plain": [
       "<tf.Tensor: shape=(3,), dtype=string, numpy=array([b'b', b'e', b'n'], dtype=object)>"
      ]
     },
     "execution_count": 12,
     "metadata": {},
     "output_type": "execute_result"
    }
   ],
   "source": [
    "num_to_char([ 2,  5, 14])"
   ]
  },
  {
   "cell_type": "code",
   "execution_count": 13,
   "id": "f8358e54",
   "metadata": {},
   "outputs": [],
   "source": [
    "def load_alignments(path:str) -> List[str]: \n",
    "    with open(path, 'r') as f: \n",
    "        lines = f.readlines() \n",
    "        \n",
    "    tokens = []\n",
    "    \n",
    "    for line in lines:\n",
    "        line = line.split()\n",
    "        \n",
    "        if line[2] != 'sil': \n",
    "            tokens = [*tokens,' ',line[2]]\n",
    "            \n",
    "    return char_to_num(tf.reshape(tf.strings.unicode_split(tokens, input_encoding='UTF-8'), (-1)))[1:]"
   ]
  },
  {
   "cell_type": "code",
   "execution_count": 14,
   "id": "07d48ef8",
   "metadata": {},
   "outputs": [],
   "source": [
    "def load_data(path: str): \n",
    "    path = bytes.decode(path.numpy())\n",
    "    file_name = path.split('\\\\')[-1].split('.')[0]\n",
    "    video_path = os.path.join('data','s1',f'{file_name}.mpg')\n",
    "    alignment_path = os.path.join('data','alignments','s1',f'{file_name}.align')\n",
    "    frames = load_video(video_path) \n",
    "    alignments = load_alignments(alignment_path)\n",
    "    \n",
    "    return frames, alignments"
   ]
  },
  {
   "cell_type": "code",
   "execution_count": 15,
   "id": "830e178f",
   "metadata": {},
   "outputs": [],
   "source": [
    "test_path = '.\\\\data\\\\s1\\\\bbal6n.mpg'"
   ]
  },
  {
   "cell_type": "code",
   "execution_count": 16,
   "id": "c2b3729a",
   "metadata": {},
   "outputs": [
    {
     "data": {
      "text/plain": [
       "'bbal6n'"
      ]
     },
     "execution_count": 16,
     "metadata": {},
     "output_type": "execute_result"
    }
   ],
   "source": [
    "tf.convert_to_tensor(test_path).numpy().decode('UTF-8').split('\\\\')[-1].split('.')[0]"
   ]
  },
  {
   "cell_type": "code",
   "execution_count": 17,
   "id": "29fba2fa",
   "metadata": {},
   "outputs": [],
   "source": [
    "# Convert raw string to tensor\n",
    "frames, alignments = load_data(tf.convert_to_tensor(test_path))"
   ]
  },
  {
   "cell_type": "code",
   "execution_count": 18,
   "id": "70596e8a",
   "metadata": {},
   "outputs": [
    {
     "data": {
      "text/plain": [
       "<tf.Tensor: shape=(75, 46, 140, 1), dtype=float32, numpy=\n",
       "array([[[[ 1.4603739 ],\n",
       "         [ 1.4603739 ],\n",
       "         [ 1.4209043 ],\n",
       "         ...,\n",
       "         [ 0.15787826],\n",
       "         [ 0.19734782],\n",
       "         [ 0.07893913]],\n",
       "\n",
       "        [[ 1.4603739 ],\n",
       "         [ 1.4603739 ],\n",
       "         [ 1.4209043 ],\n",
       "         ...,\n",
       "         [ 0.15787826],\n",
       "         [ 0.07893913],\n",
       "         [ 0.03946957]],\n",
       "\n",
       "        [[ 1.4209043 ],\n",
       "         [ 1.4209043 ],\n",
       "         [ 1.3814348 ],\n",
       "         ...,\n",
       "         [ 0.07893913],\n",
       "         [ 0.07893913],\n",
       "         [ 0.07893913]],\n",
       "\n",
       "        ...,\n",
       "\n",
       "        [[ 0.94726956],\n",
       "         [ 0.94726956],\n",
       "         [ 0.94726956],\n",
       "         ...,\n",
       "         [ 9.94633   ],\n",
       "         [ 9.867392  ],\n",
       "         [ 9.867392  ]],\n",
       "\n",
       "        [[ 0.94726956],\n",
       "         [ 0.94726956],\n",
       "         [ 0.94726956],\n",
       "         ...,\n",
       "         [ 9.90686   ],\n",
       "         [ 9.867392  ],\n",
       "         [ 9.867392  ]],\n",
       "\n",
       "        [[ 0.94726956],\n",
       "         [ 0.94726956],\n",
       "         [ 0.94726956],\n",
       "         ...,\n",
       "         [ 9.90686   ],\n",
       "         [ 9.867392  ],\n",
       "         [ 9.867392  ]]],\n",
       "\n",
       "\n",
       "       [[[ 1.4209043 ],\n",
       "         [ 1.4209043 ],\n",
       "         [ 1.3419652 ],\n",
       "         ...,\n",
       "         [ 0.19734782],\n",
       "         [ 0.11840869],\n",
       "         [ 0.15787826]],\n",
       "\n",
       "        [[ 1.4209043 ],\n",
       "         [ 1.4209043 ],\n",
       "         [ 1.3419652 ],\n",
       "         ...,\n",
       "         [ 0.23681739],\n",
       "         [ 0.        ],\n",
       "         [ 0.03946957]],\n",
       "\n",
       "        [[ 1.3419652 ],\n",
       "         [ 1.3419652 ],\n",
       "         [ 1.3024956 ],\n",
       "         ...,\n",
       "         [ 0.11840869],\n",
       "         [ 0.15787826],\n",
       "         [ 0.15787826]],\n",
       "\n",
       "        ...,\n",
       "\n",
       "        [[ 0.94726956],\n",
       "         [ 0.94726956],\n",
       "         [ 0.94726956],\n",
       "         ...,\n",
       "         [10.0252695 ],\n",
       "         [ 9.94633   ],\n",
       "         [ 9.94633   ]],\n",
       "\n",
       "        [[ 0.90779996],\n",
       "         [ 0.90779996],\n",
       "         [ 0.90779996],\n",
       "         ...,\n",
       "         [ 9.94633   ],\n",
       "         [ 9.90686   ],\n",
       "         [ 9.90686   ]],\n",
       "\n",
       "        [[ 0.90779996],\n",
       "         [ 0.90779996],\n",
       "         [ 0.90779996],\n",
       "         ...,\n",
       "         [ 9.94633   ],\n",
       "         [ 9.90686   ],\n",
       "         [ 9.90686   ]]],\n",
       "\n",
       "\n",
       "       [[[ 1.4209043 ],\n",
       "         [ 1.4209043 ],\n",
       "         [ 1.3419652 ],\n",
       "         ...,\n",
       "         [ 0.15787826],\n",
       "         [ 0.07893913],\n",
       "         [ 0.15787826]],\n",
       "\n",
       "        [[ 1.4209043 ],\n",
       "         [ 1.4209043 ],\n",
       "         [ 1.3419652 ],\n",
       "         ...,\n",
       "         [ 0.27628696],\n",
       "         [ 0.03946957],\n",
       "         [ 0.15787826]],\n",
       "\n",
       "        [[ 1.3419652 ],\n",
       "         [ 1.3024956 ],\n",
       "         [ 1.3419652 ],\n",
       "         ...,\n",
       "         [ 0.11840869],\n",
       "         [ 0.11840869],\n",
       "         [ 0.11840869]],\n",
       "\n",
       "        ...,\n",
       "\n",
       "        [[ 0.9867391 ],\n",
       "         [ 0.9867391 ],\n",
       "         [ 0.94726956],\n",
       "         ...,\n",
       "         [ 9.9858    ],\n",
       "         [ 9.9858    ],\n",
       "         [ 9.9858    ]],\n",
       "\n",
       "        [[ 0.94726956],\n",
       "         [ 0.94726956],\n",
       "         [ 0.90779996],\n",
       "         ...,\n",
       "         [ 9.94633   ],\n",
       "         [ 9.90686   ],\n",
       "         [ 9.90686   ]],\n",
       "\n",
       "        [[ 0.94726956],\n",
       "         [ 0.94726956],\n",
       "         [ 0.90779996],\n",
       "         ...,\n",
       "         [ 9.94633   ],\n",
       "         [ 9.90686   ],\n",
       "         [ 9.90686   ]]],\n",
       "\n",
       "\n",
       "       ...,\n",
       "\n",
       "\n",
       "       [[[ 1.3814348 ],\n",
       "         [ 1.3814348 ],\n",
       "         [ 1.4209043 ],\n",
       "         ...,\n",
       "         [ 0.19734782],\n",
       "         [ 0.15787826],\n",
       "         [ 0.07893913]],\n",
       "\n",
       "        [[ 1.3814348 ],\n",
       "         [ 1.3814348 ],\n",
       "         [ 1.4209043 ],\n",
       "         ...,\n",
       "         [ 0.11840869],\n",
       "         [ 0.11840869],\n",
       "         [ 0.07893913]],\n",
       "\n",
       "        [[ 1.3024956 ],\n",
       "         [ 1.3024956 ],\n",
       "         [ 1.3024956 ],\n",
       "         ...,\n",
       "         [ 0.11840869],\n",
       "         [ 0.11840869],\n",
       "         [ 0.15787826]],\n",
       "\n",
       "        ...,\n",
       "\n",
       "        [[ 0.9867391 ],\n",
       "         [ 0.94726956],\n",
       "         [ 0.94726956],\n",
       "         ...,\n",
       "         [ 9.90686   ],\n",
       "         [ 9.867392  ],\n",
       "         [ 9.867392  ]],\n",
       "\n",
       "        [[ 0.94726956],\n",
       "         [ 0.94726956],\n",
       "         [ 0.94726956],\n",
       "         ...,\n",
       "         [ 9.90686   ],\n",
       "         [ 9.867392  ],\n",
       "         [ 9.867392  ]],\n",
       "\n",
       "        [[ 0.94726956],\n",
       "         [ 0.94726956],\n",
       "         [ 0.94726956],\n",
       "         ...,\n",
       "         [ 9.90686   ],\n",
       "         [ 9.867392  ],\n",
       "         [ 9.867392  ]]],\n",
       "\n",
       "\n",
       "       [[[ 1.3419652 ],\n",
       "         [ 1.3419652 ],\n",
       "         [ 1.3814348 ],\n",
       "         ...,\n",
       "         [ 0.15787826],\n",
       "         [ 0.07893913],\n",
       "         [ 0.        ]],\n",
       "\n",
       "        [[ 1.3419652 ],\n",
       "         [ 1.3419652 ],\n",
       "         [ 1.3814348 ],\n",
       "         ...,\n",
       "         [ 0.15787826],\n",
       "         [ 0.11840869],\n",
       "         [ 0.03946957]],\n",
       "\n",
       "        [[ 1.3024956 ],\n",
       "         [ 1.3024956 ],\n",
       "         [ 1.3024956 ],\n",
       "         ...,\n",
       "         [ 0.11840869],\n",
       "         [ 0.07893913],\n",
       "         [ 0.11840869]],\n",
       "\n",
       "        ...,\n",
       "\n",
       "        [[ 0.94726956],\n",
       "         [ 0.90779996],\n",
       "         [ 0.90779996],\n",
       "         ...,\n",
       "         [ 9.867392  ],\n",
       "         [ 9.827922  ],\n",
       "         [ 9.827922  ]],\n",
       "\n",
       "        [[ 0.90779996],\n",
       "         [ 0.90779996],\n",
       "         [ 0.90779996],\n",
       "         ...,\n",
       "         [ 9.867392  ],\n",
       "         [ 9.827922  ],\n",
       "         [ 9.827922  ]],\n",
       "\n",
       "        [[ 0.90779996],\n",
       "         [ 0.90779996],\n",
       "         [ 0.90779996],\n",
       "         ...,\n",
       "         [ 9.867392  ],\n",
       "         [ 9.827922  ],\n",
       "         [ 9.827922  ]]],\n",
       "\n",
       "\n",
       "       [[[ 1.3024956 ],\n",
       "         [ 1.3024956 ],\n",
       "         [ 1.3814348 ],\n",
       "         ...,\n",
       "         [ 0.07893913],\n",
       "         [ 0.07893913],\n",
       "         [ 0.15787826]],\n",
       "\n",
       "        [[ 1.3024956 ],\n",
       "         [ 1.3024956 ],\n",
       "         [ 1.3814348 ],\n",
       "         ...,\n",
       "         [ 0.        ],\n",
       "         [ 0.07893913],\n",
       "         [ 0.23681739]],\n",
       "\n",
       "        [[ 1.3419652 ],\n",
       "         [ 1.3419652 ],\n",
       "         [ 1.3419652 ],\n",
       "         ...,\n",
       "         [ 0.07893913],\n",
       "         [ 0.07893913],\n",
       "         [ 0.07893913]],\n",
       "\n",
       "        ...,\n",
       "\n",
       "        [[ 0.90779996],\n",
       "         [ 0.90779996],\n",
       "         [ 0.90779996],\n",
       "         ...,\n",
       "         [ 9.90686   ],\n",
       "         [ 9.867392  ],\n",
       "         [ 9.867392  ]],\n",
       "\n",
       "        [[ 0.90779996],\n",
       "         [ 0.90779996],\n",
       "         [ 0.90779996],\n",
       "         ...,\n",
       "         [ 9.94633   ],\n",
       "         [ 9.867392  ],\n",
       "         [ 9.867392  ]],\n",
       "\n",
       "        [[ 0.90779996],\n",
       "         [ 0.90779996],\n",
       "         [ 0.90779996],\n",
       "         ...,\n",
       "         [ 9.94633   ],\n",
       "         [ 9.867392  ],\n",
       "         [ 9.867392  ]]]], dtype=float32)>"
      ]
     },
     "execution_count": 18,
     "metadata": {},
     "output_type": "execute_result"
    }
   ],
   "source": [
    "frames"
   ]
  },
  {
   "cell_type": "code",
   "execution_count": 19,
   "id": "785a3e16",
   "metadata": {},
   "outputs": [
    {
     "data": {
      "text/plain": [
       "<matplotlib.image.AxesImage at 0x20eb3645210>"
      ]
     },
     "execution_count": 19,
     "metadata": {},
     "output_type": "execute_result"
    },
    {
     "data": {
      "image/png": "[encoded data removed]",
      "text/plain": [
       "<Figure size 640x480 with 1 Axes>"
      ]
     },
     "metadata": {},
     "output_type": "display_data"
    }
   ],
   "source": [
    "plt.imshow(frames[0])"
   ]
  },
  {
   "cell_type": "code",
   "execution_count": 20,
   "id": "82c593d3",
   "metadata": {},
   "outputs": [
    {
     "data": {
      "text/plain": [
       "<tf.Tensor: shape=(21,), dtype=int64, numpy=\n",
       "array([ 2,  9, 14, 39,  2, 12, 21,  5, 39,  1, 20, 39, 12, 39, 19,  9, 24,\n",
       "       39, 14, 15, 23], dtype=int64)>"
      ]
     },
     "execution_count": 20,
     "metadata": {},
     "output_type": "execute_result"
    }
   ],
   "source": [
    "alignments"
   ]
  },
  {
   "cell_type": "code",
   "execution_count": 21,
   "id": "b5211edb",
   "metadata": {},
   "outputs": [
    {
     "data": {
      "text/plain": [
       "<tf.Tensor: shape=(), dtype=string, numpy=b'bin blue at l six now'>"
      ]
     },
     "execution_count": 21,
     "metadata": {},
     "output_type": "execute_result"
    }
   ],
   "source": [
    "tf.strings.reduce_join([bytes.decode(x) for x in num_to_char(alignments.numpy()).numpy()])"
   ]
  },
  {
   "cell_type": "code",
   "execution_count": 42,
   "id": "1dad6230",
   "metadata": {},
   "outputs": [],
   "source": [
    "def mappable_function(path: str) -> List[str]:\n",
    "    # Tensorflow that involves raw string processing usually needs to be wrapped inside py_function()\n",
    "    result = tf.py_function(load_data, [path], (tf.float32, tf.int64))\n",
    "    \n",
    "    return result"
   ]
  },
  {
   "cell_type": "markdown",
   "id": "59f85396",
   "metadata": {},
   "source": [
    "# Data Pipeline"
   ]
  },
  {
   "cell_type": "code",
   "execution_count": 22,
   "id": "341d7e78",
   "metadata": {},
   "outputs": [],
   "source": [
    "from matplotlib import pyplot as plt"
   ]
  },
  {
   "cell_type": "code",
   "execution_count": 24,
   "id": "8f17331f",
   "metadata": {},
   "outputs": [
    {
     "ename": "NameError",
     "evalue": "name 'mappable_function' is not defined",
     "output_type": "error",
     "traceback": [
      "\u001b[1;31m---------------------------------------------------------------------------\u001b[0m",
      "\u001b[1;31mNameError\u001b[0m                                 Traceback (most recent call last)",
      "\u001b[1;32mc:\\lip2\\LipNet-main\\LipNet.ipynb Cell 25\u001b[0m line \u001b[0;36m3\n\u001b[0;32m      <a href='vscode-notebook-cell:/c%3A/lip2/LipNet-main/LipNet.ipynb#X33sZmlsZQ%3D%3D?line=0'>1</a>\u001b[0m data \u001b[39m=\u001b[39m tf\u001b[39m.\u001b[39mdata\u001b[39m.\u001b[39mDataset\u001b[39m.\u001b[39mlist_files(\u001b[39m'\u001b[39m\u001b[39m./data/s1/*.mpg\u001b[39m\u001b[39m'\u001b[39m)\n\u001b[0;32m      <a href='vscode-notebook-cell:/c%3A/lip2/LipNet-main/LipNet.ipynb#X33sZmlsZQ%3D%3D?line=1'>2</a>\u001b[0m data \u001b[39m=\u001b[39m data\u001b[39m.\u001b[39mshuffle(\u001b[39m500\u001b[39m, reshuffle_each_iteration\u001b[39m=\u001b[39m\u001b[39mFalse\u001b[39;00m)\n\u001b[1;32m----> <a href='vscode-notebook-cell:/c%3A/lip2/LipNet-main/LipNet.ipynb#X33sZmlsZQ%3D%3D?line=2'>3</a>\u001b[0m data \u001b[39m=\u001b[39m data\u001b[39m.\u001b[39mmap(mappable_function)\n\u001b[0;32m      <a href='vscode-notebook-cell:/c%3A/lip2/LipNet-main/LipNet.ipynb#X33sZmlsZQ%3D%3D?line=3'>4</a>\u001b[0m \u001b[39m# 75 frames for both the videos and at least 40 tokens for each of the alignments. If not, padded out to 0.\u001b[39;00m\n\u001b[0;32m      <a href='vscode-notebook-cell:/c%3A/lip2/LipNet-main/LipNet.ipynb#X33sZmlsZQ%3D%3D?line=4'>5</a>\u001b[0m data \u001b[39m=\u001b[39m data\u001b[39m.\u001b[39mpadded_batch(\u001b[39m2\u001b[39m, padded_shapes\u001b[39m=\u001b[39m([\u001b[39m75\u001b[39m,\u001b[39mNone\u001b[39;00m,\u001b[39mNone\u001b[39;00m,\u001b[39mNone\u001b[39;00m], [\u001b[39m40\u001b[39m]))\n",
      "\u001b[1;31mNameError\u001b[0m: name 'mappable_function' is not defined"
     ]
    }
   ],
   "source": [
    "data = tf.data.Dataset.list_files('./data/s1/*.mpg')\n",
    "data = data.shuffle(500, reshuffle_each_iteration=False)\n",
    "data = data.map(mappable_function)\n",
    "# 75 frames for both the videos and at least 40 tokens for each of the alignments. If not, padded out to 0.\n",
    "data = data.padded_batch(2, padded_shapes=([75,None,None,None], [40]))\n",
    "data = data.prefetch(tf.data.AUTOTUNE)\n",
    "\n",
    "train = data.take(450)\n",
    "test = data.skip(450)"
   ]
  },
  {
   "cell_type": "code",
   "execution_count": 83,
   "id": "211ce458",
   "metadata": {},
   "outputs": [
    {
     "data": {
      "text/plain": [
       "50"
      ]
     },
     "execution_count": 83,
     "metadata": {},
     "output_type": "execute_result"
    }
   ],
   "source": [
    "len(test)"
   ]
  },
  {
   "cell_type": "code",
   "execution_count": 47,
   "id": "c9c4bfa0",
   "metadata": {},
   "outputs": [],
   "source": [
    "frames, alignments = data.as_numpy_iterator().next()"
   ]
  },
  {
   "cell_type": "code",
   "execution_count": 48,
   "id": "4feff9bf",
   "metadata": {},
   "outputs": [
    {
     "data": {
      "text/plain": [
       "2"
      ]
     },
     "execution_count": 48,
     "metadata": {},
     "output_type": "execute_result"
    }
   ],
   "source": [
    "len(frames)"
   ]
  },
  {
   "cell_type": "code",
   "execution_count": 49,
   "id": "d6d628bf",
   "metadata": {},
   "outputs": [],
   "source": [
    "test = data.as_numpy_iterator()"
   ]
  },
  {
   "cell_type": "code",
   "execution_count": 50,
   "id": "ee018ece",
   "metadata": {},
   "outputs": [
    {
     "data": {
      "text/plain": [
       "array([[[[[1.4253203 ],\n",
       "          [1.4253203 ],\n",
       "          [1.4253203 ],\n",
       "          ...,\n",
       "          [0.03654667],\n",
       "          [0.2558267 ],\n",
       "          [0.21928003]],\n",
       "\n",
       "         [[1.4253203 ],\n",
       "          [1.4253203 ],\n",
       "          [1.4253203 ],\n",
       "          ...,\n",
       "          [0.07309335],\n",
       "          [0.2558267 ],\n",
       "          [0.21928003]],\n",
       "\n",
       "         [[1.3522269 ],\n",
       "          [1.3522269 ],\n",
       "          [1.3522269 ],\n",
       "          ...,\n",
       "          [0.21928003],\n",
       "          [0.2923734 ],\n",
       "          [0.2923734 ]],\n",
       "\n",
       "         ...,\n",
       "\n",
       "         [[0.98676014],\n",
       "          [0.98676014],\n",
       "          [0.9502135 ],\n",
       "          ...,\n",
       "          [0.        ],\n",
       "          [0.        ],\n",
       "          [0.        ]],\n",
       "\n",
       "         [[0.98676014],\n",
       "          [0.98676014],\n",
       "          [0.9502135 ],\n",
       "          ...,\n",
       "          [0.        ],\n",
       "          [9.319402  ],\n",
       "          [9.319402  ]],\n",
       "\n",
       "         [[0.98676014],\n",
       "          [0.98676014],\n",
       "          [0.9502135 ],\n",
       "          ...,\n",
       "          [0.        ],\n",
       "          [9.319402  ],\n",
       "          [9.319402  ]]],\n",
       "\n",
       "\n",
       "        [[[1.3887736 ],\n",
       "          [1.3887736 ],\n",
       "          [1.3887736 ],\n",
       "          ...,\n",
       "          [0.        ],\n",
       "          [0.2558267 ],\n",
       "          [0.2923734 ]],\n",
       "\n",
       "         [[1.3887736 ],\n",
       "          [1.3887736 ],\n",
       "          [1.3887736 ],\n",
       "          ...,\n",
       "          [9.282855  ],\n",
       "          [0.2558267 ],\n",
       "          [0.2923734 ]],\n",
       "\n",
       "         [[1.3156801 ],\n",
       "          [1.3156801 ],\n",
       "          [1.3522269 ],\n",
       "          ...,\n",
       "          [0.21928003],\n",
       "          [0.2558267 ],\n",
       "          [0.2558267 ]],\n",
       "\n",
       "         ...,\n",
       "\n",
       "         [[0.98676014],\n",
       "          [0.98676014],\n",
       "          [0.9502135 ],\n",
       "          ...,\n",
       "          [9.319402  ],\n",
       "          [9.282855  ],\n",
       "          [9.282855  ]],\n",
       "\n",
       "         [[0.98676014],\n",
       "          [0.98676014],\n",
       "          [0.9502135 ],\n",
       "          ...,\n",
       "          [9.282855  ],\n",
       "          [9.282855  ],\n",
       "          [9.282855  ]],\n",
       "\n",
       "         [[0.98676014],\n",
       "          [0.98676014],\n",
       "          [0.9502135 ],\n",
       "          ...,\n",
       "          [9.282855  ],\n",
       "          [9.282855  ],\n",
       "          [9.282855  ]]],\n",
       "\n",
       "\n",
       "        [[[1.4253203 ],\n",
       "          [1.4253203 ],\n",
       "          [1.3887736 ],\n",
       "          ...,\n",
       "          [0.        ],\n",
       "          [0.2558267 ],\n",
       "          [0.3654667 ]],\n",
       "\n",
       "         [[1.4253203 ],\n",
       "          [1.4253203 ],\n",
       "          [1.3887736 ],\n",
       "          ...,\n",
       "          [0.07309335],\n",
       "          [0.32892004],\n",
       "          [0.18273336]],\n",
       "\n",
       "         [[1.2791336 ],\n",
       "          [1.2791336 ],\n",
       "          [1.3156801 ],\n",
       "          ...,\n",
       "          [0.21928003],\n",
       "          [0.2558267 ],\n",
       "          [0.2558267 ]],\n",
       "\n",
       "         ...,\n",
       "\n",
       "         [[0.9502135 ],\n",
       "          [0.9502135 ],\n",
       "          [0.9136668 ],\n",
       "          ...,\n",
       "          [9.319402  ],\n",
       "          [9.282855  ],\n",
       "          [9.282855  ]],\n",
       "\n",
       "         [[0.9502135 ],\n",
       "          [0.9502135 ],\n",
       "          [0.9136668 ],\n",
       "          ...,\n",
       "          [9.282855  ],\n",
       "          [9.246308  ],\n",
       "          [9.246308  ]],\n",
       "\n",
       "         [[0.9502135 ],\n",
       "          [0.9502135 ],\n",
       "          [0.9136668 ],\n",
       "          ...,\n",
       "          [9.282855  ],\n",
       "          [9.246308  ],\n",
       "          [9.246308  ]]],\n",
       "\n",
       "\n",
       "        ...,\n",
       "\n",
       "\n",
       "        [[[1.4984136 ],\n",
       "          [1.4984136 ],\n",
       "          [1.4253203 ],\n",
       "          ...,\n",
       "          [0.07309335],\n",
       "          [0.3654667 ],\n",
       "          [0.3654667 ]],\n",
       "\n",
       "         [[1.4618669 ],\n",
       "          [1.4618669 ],\n",
       "          [1.3887736 ],\n",
       "          ...,\n",
       "          [9.282855  ],\n",
       "          [0.32892004],\n",
       "          [0.4020134 ]],\n",
       "\n",
       "         [[1.3522269 ],\n",
       "          [1.3522269 ],\n",
       "          [1.3887736 ],\n",
       "          ...,\n",
       "          [0.18273336],\n",
       "          [0.2558267 ],\n",
       "          [0.2558267 ]],\n",
       "\n",
       "         ...,\n",
       "\n",
       "         [[0.9502135 ],\n",
       "          [0.9502135 ],\n",
       "          [0.9502135 ],\n",
       "          ...,\n",
       "          [0.03654667],\n",
       "          [0.        ],\n",
       "          [0.        ]],\n",
       "\n",
       "         [[0.9502135 ],\n",
       "          [0.9502135 ],\n",
       "          [0.9502135 ],\n",
       "          ...,\n",
       "          [0.        ],\n",
       "          [0.        ],\n",
       "          [0.        ]],\n",
       "\n",
       "         [[0.9502135 ],\n",
       "          [0.9502135 ],\n",
       "          [0.9502135 ],\n",
       "          ...,\n",
       "          [0.        ],\n",
       "          [0.        ],\n",
       "          [0.        ]]],\n",
       "\n",
       "\n",
       "        [[[1.4618669 ],\n",
       "          [1.4618669 ],\n",
       "          [1.4253203 ],\n",
       "          ...,\n",
       "          [0.1461867 ],\n",
       "          [0.21928003],\n",
       "          [0.3654667 ]],\n",
       "\n",
       "         [[1.3887736 ],\n",
       "          [1.3887736 ],\n",
       "          [1.3522269 ],\n",
       "          ...,\n",
       "          [0.10964002],\n",
       "          [0.32892004],\n",
       "          [0.4020134 ]],\n",
       "\n",
       "         [[1.3887736 ],\n",
       "          [1.3887736 ],\n",
       "          [1.3522269 ],\n",
       "          ...,\n",
       "          [0.18273336],\n",
       "          [0.2923734 ],\n",
       "          [0.2923734 ]],\n",
       "\n",
       "         ...,\n",
       "\n",
       "         [[0.9502135 ],\n",
       "          [0.9502135 ],\n",
       "          [0.9502135 ],\n",
       "          ...,\n",
       "          [0.07309335],\n",
       "          [0.03654667],\n",
       "          [0.03654667]],\n",
       "\n",
       "         [[0.9502135 ],\n",
       "          [0.9502135 ],\n",
       "          [0.9502135 ],\n",
       "          ...,\n",
       "          [0.        ],\n",
       "          [0.        ],\n",
       "          [0.        ]],\n",
       "\n",
       "         [[0.9502135 ],\n",
       "          [0.9502135 ],\n",
       "          [0.9502135 ],\n",
       "          ...,\n",
       "          [0.        ],\n",
       "          [0.        ],\n",
       "          [0.        ]]],\n",
       "\n",
       "\n",
       "        [[[1.5349603 ],\n",
       "          [1.5349603 ],\n",
       "          [1.4618669 ],\n",
       "          ...,\n",
       "          [0.10964002],\n",
       "          [0.2558267 ],\n",
       "          [0.4020134 ]],\n",
       "\n",
       "         [[1.4984136 ],\n",
       "          [1.4984136 ],\n",
       "          [1.4253203 ],\n",
       "          ...,\n",
       "          [0.10964002],\n",
       "          [0.32892004],\n",
       "          [0.3654667 ]],\n",
       "\n",
       "         [[1.3887736 ],\n",
       "          [1.3887736 ],\n",
       "          [1.3156801 ],\n",
       "          ...,\n",
       "          [0.21928003],\n",
       "          [0.2923734 ],\n",
       "          [0.2923734 ]],\n",
       "\n",
       "         ...,\n",
       "\n",
       "         [[0.98676014],\n",
       "          [0.9502135 ],\n",
       "          [0.9502135 ],\n",
       "          ...,\n",
       "          [0.03654667],\n",
       "          [0.03654667],\n",
       "          [0.03654667]],\n",
       "\n",
       "         [[0.98676014],\n",
       "          [0.9502135 ],\n",
       "          [0.9502135 ],\n",
       "          ...,\n",
       "          [0.03654667],\n",
       "          [0.03654667],\n",
       "          [0.03654667]],\n",
       "\n",
       "         [[0.98676014],\n",
       "          [0.9502135 ],\n",
       "          [0.9502135 ],\n",
       "          ...,\n",
       "          [0.        ],\n",
       "          [0.        ],\n",
       "          [0.        ]]]],\n",
       "\n",
       "\n",
       "\n",
       "       [[[[1.3217572 ],\n",
       "          [1.3217572 ],\n",
       "          [1.282882  ],\n",
       "          ...,\n",
       "          [0.07775042],\n",
       "          [0.07775042],\n",
       "          [0.07775042]],\n",
       "\n",
       "         [[1.3217572 ],\n",
       "          [1.3217572 ],\n",
       "          [1.282882  ],\n",
       "          ...,\n",
       "          [0.11662563],\n",
       "          [0.19437605],\n",
       "          [0.15550084]],\n",
       "\n",
       "         [[1.3217572 ],\n",
       "          [1.3217572 ],\n",
       "          [1.3217572 ],\n",
       "          ...,\n",
       "          [0.15550084],\n",
       "          [0.19437605],\n",
       "          [0.19437605]],\n",
       "\n",
       "         ...,\n",
       "\n",
       "         [[0.8941298 ],\n",
       "          [0.8941298 ],\n",
       "          [0.8941298 ],\n",
       "          ...,\n",
       "          [9.796553  ],\n",
       "          [9.757678  ],\n",
       "          [9.757678  ]],\n",
       "\n",
       "         [[0.8941298 ],\n",
       "          [0.8941298 ],\n",
       "          [0.8941298 ],\n",
       "          ...,\n",
       "          [9.757678  ],\n",
       "          [9.796553  ],\n",
       "          [9.796553  ]],\n",
       "\n",
       "         [[0.8941298 ],\n",
       "          [0.8941298 ],\n",
       "          [0.8941298 ],\n",
       "          ...,\n",
       "          [9.757678  ],\n",
       "          [9.796553  ],\n",
       "          [9.757678  ]]],\n",
       "\n",
       "\n",
       "        [[[1.3217572 ],\n",
       "          [1.3217572 ],\n",
       "          [1.2440068 ],\n",
       "          ...,\n",
       "          [0.23325126],\n",
       "          [0.03887521],\n",
       "          [0.07775042]],\n",
       "\n",
       "         [[1.3217572 ],\n",
       "          [1.3217572 ],\n",
       "          [1.2440068 ],\n",
       "          ...,\n",
       "          [0.27212647],\n",
       "          [0.15550084],\n",
       "          [0.07775042]],\n",
       "\n",
       "         [[1.282882  ],\n",
       "          [1.282882  ],\n",
       "          [1.282882  ],\n",
       "          ...,\n",
       "          [0.11662563],\n",
       "          [0.07775042],\n",
       "          [0.15550084]],\n",
       "\n",
       "         ...,\n",
       "\n",
       "         [[0.93300503],\n",
       "          [0.93300503],\n",
       "          [0.8941298 ],\n",
       "          ...,\n",
       "          [9.757678  ],\n",
       "          [9.835428  ],\n",
       "          [9.796553  ]],\n",
       "\n",
       "         [[0.93300503],\n",
       "          [0.93300503],\n",
       "          [0.8941298 ],\n",
       "          ...,\n",
       "          [9.757678  ],\n",
       "          [9.757678  ],\n",
       "          [9.757678  ]],\n",
       "\n",
       "         [[0.93300503],\n",
       "          [0.93300503],\n",
       "          [0.8941298 ],\n",
       "          ...,\n",
       "          [9.796553  ],\n",
       "          [9.796553  ],\n",
       "          [9.757678  ]]],\n",
       "\n",
       "\n",
       "        [[[1.3606324 ],\n",
       "          [1.3606324 ],\n",
       "          [1.3217572 ],\n",
       "          ...,\n",
       "          [0.19437605],\n",
       "          [0.        ],\n",
       "          [0.03887521]],\n",
       "\n",
       "         [[1.3606324 ],\n",
       "          [1.3606324 ],\n",
       "          [1.3217572 ],\n",
       "          ...,\n",
       "          [0.27212647],\n",
       "          [0.15550084],\n",
       "          [0.07775042]],\n",
       "\n",
       "         [[1.3217572 ],\n",
       "          [1.3217572 ],\n",
       "          [1.3217572 ],\n",
       "          ...,\n",
       "          [0.11662563],\n",
       "          [0.15550084],\n",
       "          [0.15550084]],\n",
       "\n",
       "         ...,\n",
       "\n",
       "         [[0.93300503],\n",
       "          [0.93300503],\n",
       "          [0.8941298 ],\n",
       "          ...,\n",
       "          [9.718802  ],\n",
       "          [9.835428  ],\n",
       "          [9.874304  ]],\n",
       "\n",
       "         [[0.93300503],\n",
       "          [0.93300503],\n",
       "          [0.8941298 ],\n",
       "          ...,\n",
       "          [9.679928  ],\n",
       "          [9.796553  ],\n",
       "          [9.835428  ]],\n",
       "\n",
       "         [[0.93300503],\n",
       "          [0.93300503],\n",
       "          [0.8941298 ],\n",
       "          ...,\n",
       "          [9.757678  ],\n",
       "          [9.796553  ],\n",
       "          [9.835428  ]]],\n",
       "\n",
       "\n",
       "        ...,\n",
       "\n",
       "\n",
       "        [[[1.4383827 ],\n",
       "          [1.4383827 ],\n",
       "          [1.4383827 ],\n",
       "          ...,\n",
       "          [0.03887521],\n",
       "          [0.03887521],\n",
       "          [0.03887521]],\n",
       "\n",
       "         [[1.3606324 ],\n",
       "          [1.3606324 ],\n",
       "          [1.3606324 ],\n",
       "          ...,\n",
       "          [0.03887521],\n",
       "          [0.03887521],\n",
       "          [0.03887521]],\n",
       "\n",
       "         [[1.3606324 ],\n",
       "          [1.3606324 ],\n",
       "          [1.3606324 ],\n",
       "          ...,\n",
       "          [0.11662563],\n",
       "          [0.07775042],\n",
       "          [0.07775042]],\n",
       "\n",
       "         ...,\n",
       "\n",
       "         [[0.97188026],\n",
       "          [0.97188026],\n",
       "          [0.97188026],\n",
       "          ...,\n",
       "          [9.835428  ],\n",
       "          [9.835428  ],\n",
       "          [9.835428  ]],\n",
       "\n",
       "         [[0.97188026],\n",
       "          [0.97188026],\n",
       "          [0.97188026],\n",
       "          ...,\n",
       "          [9.796553  ],\n",
       "          [9.874304  ],\n",
       "          [9.835428  ]],\n",
       "\n",
       "         [[0.97188026],\n",
       "          [0.97188026],\n",
       "          [0.93300503],\n",
       "          ...,\n",
       "          [9.796553  ],\n",
       "          [9.835428  ],\n",
       "          [9.835428  ]]],\n",
       "\n",
       "\n",
       "        [[[1.282882  ],\n",
       "          [1.282882  ],\n",
       "          [1.3217572 ],\n",
       "          ...,\n",
       "          [0.07775042],\n",
       "          [0.11662563],\n",
       "          [0.23325126]],\n",
       "\n",
       "         [[1.2440068 ],\n",
       "          [1.2440068 ],\n",
       "          [1.282882  ],\n",
       "          ...,\n",
       "          [0.07775042],\n",
       "          [0.07775042],\n",
       "          [0.23325126]],\n",
       "\n",
       "         [[1.3217572 ],\n",
       "          [1.3217572 ],\n",
       "          [1.3217572 ],\n",
       "          ...,\n",
       "          [0.07775042],\n",
       "          [0.07775042],\n",
       "          [0.07775042]],\n",
       "\n",
       "         ...,\n",
       "\n",
       "         [[0.93300503],\n",
       "          [0.93300503],\n",
       "          [0.93300503],\n",
       "          ...,\n",
       "          [9.874304  ],\n",
       "          [9.835428  ],\n",
       "          [9.835428  ]],\n",
       "\n",
       "         [[0.97188026],\n",
       "          [0.97188026],\n",
       "          [0.97188026],\n",
       "          ...,\n",
       "          [9.796553  ],\n",
       "          [9.874304  ],\n",
       "          [9.835428  ]],\n",
       "\n",
       "         [[0.97188026],\n",
       "          [0.97188026],\n",
       "          [0.8941298 ],\n",
       "          ...,\n",
       "          [9.796553  ],\n",
       "          [9.835428  ],\n",
       "          [9.835428  ]]],\n",
       "\n",
       "\n",
       "        [[[1.3606324 ],\n",
       "          [1.3606324 ],\n",
       "          [1.3606324 ],\n",
       "          ...,\n",
       "          [0.03887521],\n",
       "          [0.15550084],\n",
       "          [0.3110017 ]],\n",
       "\n",
       "         [[1.3217572 ],\n",
       "          [1.3217572 ],\n",
       "          [1.3217572 ],\n",
       "          ...,\n",
       "          [0.19437605],\n",
       "          [0.07775042],\n",
       "          [0.15550084]],\n",
       "\n",
       "         [[1.282882  ],\n",
       "          [1.282882  ],\n",
       "          [1.282882  ],\n",
       "          ...,\n",
       "          [0.11662563],\n",
       "          [0.07775042],\n",
       "          [0.19437605]],\n",
       "\n",
       "         ...,\n",
       "\n",
       "         [[0.97188026],\n",
       "          [0.97188026],\n",
       "          [0.97188026],\n",
       "          ...,\n",
       "          [9.796553  ],\n",
       "          [9.796553  ],\n",
       "          [9.796553  ]],\n",
       "\n",
       "         [[0.97188026],\n",
       "          [0.97188026],\n",
       "          [0.97188026],\n",
       "          ...,\n",
       "          [9.757678  ],\n",
       "          [9.796553  ],\n",
       "          [9.718802  ]],\n",
       "\n",
       "         [[0.97188026],\n",
       "          [0.97188026],\n",
       "          [0.93300503],\n",
       "          ...,\n",
       "          [9.757678  ],\n",
       "          [9.718802  ],\n",
       "          [9.718802  ]]]]], dtype=float32)"
      ]
     },
     "execution_count": 50,
     "metadata": {},
     "output_type": "execute_result"
    }
   ],
   "source": [
    "val = test.next(); val[0]"
   ]
  },
  {
   "cell_type": "code",
   "execution_count": 52,
   "id": "801061ec",
   "metadata": {},
   "outputs": [
    {
     "name": "stderr",
     "output_type": "stream",
     "text": [
      "Lossy conversion from float32 to uint8. Range [0.0, 9.913178443908691]. Convert image to uint8 prior to saving to suppress this warning.\n",
      "Lossy conversion from float32 to uint8. Range [0.0, 9.913178443908691]. Convert image to uint8 prior to saving to suppress this warning.\n",
      "Lossy conversion from float32 to uint8. Range [0.0, 9.913178443908691]. Convert image to uint8 prior to saving to suppress this warning.\n",
      "Lossy conversion from float32 to uint8. Range [0.0, 9.913178443908691]. Convert image to uint8 prior to saving to suppress this warning.\n",
      "Lossy conversion from float32 to uint8. Range [0.0, 9.913178443908691]. Convert image to uint8 prior to saving to suppress this warning.\n",
      "Lossy conversion from float32 to uint8. Range [0.0, 9.913178443908691]. Convert image to uint8 prior to saving to suppress this warning.\n",
      "Lossy conversion from float32 to uint8. Range [0.0, 9.913178443908691]. Convert image to uint8 prior to saving to suppress this warning.\n",
      "Lossy conversion from float32 to uint8. Range [0.0, 9.913178443908691]. Convert image to uint8 prior to saving to suppress this warning.\n",
      "Lossy conversion from float32 to uint8. Range [0.0, 9.913178443908691]. Convert image to uint8 prior to saving to suppress this warning.\n",
      "Lossy conversion from float32 to uint8. Range [0.0, 9.913178443908691]. Convert image to uint8 prior to saving to suppress this warning.\n",
      "Lossy conversion from float32 to uint8. Range [0.0, 9.913178443908691]. Convert image to uint8 prior to saving to suppress this warning.\n",
      "Lossy conversion from float32 to uint8. Range [0.0, 9.913178443908691]. Convert image to uint8 prior to saving to suppress this warning.\n",
      "Lossy conversion from float32 to uint8. Range [0.0, 9.913178443908691]. Convert image to uint8 prior to saving to suppress this warning.\n",
      "Lossy conversion from float32 to uint8. Range [0.0, 9.913178443908691]. Convert image to uint8 prior to saving to suppress this warning.\n",
      "Lossy conversion from float32 to uint8. Range [0.0, 9.913178443908691]. Convert image to uint8 prior to saving to suppress this warning.\n",
      "Lossy conversion from float32 to uint8. Range [0.0, 9.913178443908691]. Convert image to uint8 prior to saving to suppress this warning.\n",
      "Lossy conversion from float32 to uint8. Range [0.0, 9.913178443908691]. Convert image to uint8 prior to saving to suppress this warning.\n",
      "Lossy conversion from float32 to uint8. Range [0.0, 9.913178443908691]. Convert image to uint8 prior to saving to suppress this warning.\n",
      "Lossy conversion from float32 to uint8. Range [0.0, 9.913178443908691]. Convert image to uint8 prior to saving to suppress this warning.\n",
      "Lossy conversion from float32 to uint8. Range [0.0, 9.913178443908691]. Convert image to uint8 prior to saving to suppress this warning.\n",
      "Lossy conversion from float32 to uint8. Range [0.0, 9.913178443908691]. Convert image to uint8 prior to saving to suppress this warning.\n",
      "Lossy conversion from float32 to uint8. Range [0.0, 9.913178443908691]. Convert image to uint8 prior to saving to suppress this warning.\n",
      "Lossy conversion from float32 to uint8. Range [0.0, 9.913178443908691]. Convert image to uint8 prior to saving to suppress this warning.\n",
      "Lossy conversion from float32 to uint8. Range [0.0, 9.913178443908691]. Convert image to uint8 prior to saving to suppress this warning.\n",
      "Lossy conversion from float32 to uint8. Range [0.0, 9.913178443908691]. Convert image to uint8 prior to saving to suppress this warning.\n",
      "Lossy conversion from float32 to uint8. Range [0.0, 9.913178443908691]. Convert image to uint8 prior to saving to suppress this warning.\n",
      "Lossy conversion from float32 to uint8. Range [0.0, 9.913178443908691]. Convert image to uint8 prior to saving to suppress this warning.\n",
      "Lossy conversion from float32 to uint8. Range [0.0, 9.913178443908691]. Convert image to uint8 prior to saving to suppress this warning.\n",
      "Lossy conversion from float32 to uint8. Range [0.0, 9.913178443908691]. Convert image to uint8 prior to saving to suppress this warning.\n",
      "Lossy conversion from float32 to uint8. Range [0.0, 9.913178443908691]. Convert image to uint8 prior to saving to suppress this warning.\n",
      "Lossy conversion from float32 to uint8. Range [0.0, 9.913178443908691]. Convert image to uint8 prior to saving to suppress this warning.\n",
      "Lossy conversion from float32 to uint8. Range [0.0, 9.913178443908691]. Convert image to uint8 prior to saving to suppress this warning.\n",
      "Lossy conversion from float32 to uint8. Range [0.0, 9.913178443908691]. Convert image to uint8 prior to saving to suppress this warning.\n",
      "Lossy conversion from float32 to uint8. Range [0.0, 9.913178443908691]. Convert image to uint8 prior to saving to suppress this warning.\n",
      "Lossy conversion from float32 to uint8. Range [0.0, 9.913178443908691]. Convert image to uint8 prior to saving to suppress this warning.\n",
      "Lossy conversion from float32 to uint8. Range [0.0, 9.913178443908691]. Convert image to uint8 prior to saving to suppress this warning.\n",
      "Lossy conversion from float32 to uint8. Range [0.0, 9.913178443908691]. Convert image to uint8 prior to saving to suppress this warning.\n",
      "Lossy conversion from float32 to uint8. Range [0.0, 9.913178443908691]. Convert image to uint8 prior to saving to suppress this warning.\n",
      "Lossy conversion from float32 to uint8. Range [0.0, 9.913178443908691]. Convert image to uint8 prior to saving to suppress this warning.\n",
      "Lossy conversion from float32 to uint8. Range [0.0, 9.913178443908691]. Convert image to uint8 prior to saving to suppress this warning.\n",
      "Lossy conversion from float32 to uint8. Range [0.0, 9.913178443908691]. Convert image to uint8 prior to saving to suppress this warning.\n",
      "Lossy conversion from float32 to uint8. Range [0.0, 9.913178443908691]. Convert image to uint8 prior to saving to suppress this warning.\n",
      "Lossy conversion from float32 to uint8. Range [0.0, 9.913178443908691]. Convert image to uint8 prior to saving to suppress this warning.\n",
      "Lossy conversion from float32 to uint8. Range [0.0, 9.913178443908691]. Convert image to uint8 prior to saving to suppress this warning.\n",
      "Lossy conversion from float32 to uint8. Range [0.0, 9.913178443908691]. Convert image to uint8 prior to saving to suppress this warning.\n",
      "Lossy conversion from float32 to uint8. Range [0.0, 9.913178443908691]. Convert image to uint8 prior to saving to suppress this warning.\n",
      "Lossy conversion from float32 to uint8. Range [0.0, 9.913178443908691]. Convert image to uint8 prior to saving to suppress this warning.\n",
      "Lossy conversion from float32 to uint8. Range [0.0, 9.913178443908691]. Convert image to uint8 prior to saving to suppress this warning.\n",
      "Lossy conversion from float32 to uint8. Range [0.0, 9.913178443908691]. Convert image to uint8 prior to saving to suppress this warning.\n",
      "Lossy conversion from float32 to uint8. Range [0.0, 9.913178443908691]. Convert image to uint8 prior to saving to suppress this warning.\n",
      "Lossy conversion from float32 to uint8. Range [0.0, 9.913178443908691]. Convert image to uint8 prior to saving to suppress this warning.\n",
      "Lossy conversion from float32 to uint8. Range [0.0, 9.913178443908691]. Convert image to uint8 prior to saving to suppress this warning.\n",
      "Lossy conversion from float32 to uint8. Range [0.0, 9.913178443908691]. Convert image to uint8 prior to saving to suppress this warning.\n",
      "Lossy conversion from float32 to uint8. Range [0.0, 9.913178443908691]. Convert image to uint8 prior to saving to suppress this warning.\n",
      "Lossy conversion from float32 to uint8. Range [0.0, 9.913178443908691]. Convert image to uint8 prior to saving to suppress this warning.\n",
      "Lossy conversion from float32 to uint8. Range [0.0, 9.913178443908691]. Convert image to uint8 prior to saving to suppress this warning.\n",
      "Lossy conversion from float32 to uint8. Range [0.0, 9.913178443908691]. Convert image to uint8 prior to saving to suppress this warning.\n",
      "Lossy conversion from float32 to uint8. Range [0.0, 9.913178443908691]. Convert image to uint8 prior to saving to suppress this warning.\n",
      "Lossy conversion from float32 to uint8. Range [0.0, 9.913178443908691]. Convert image to uint8 prior to saving to suppress this warning.\n",
      "Lossy conversion from float32 to uint8. Range [0.0, 9.913178443908691]. Convert image to uint8 prior to saving to suppress this warning.\n"
     ]
    },
    {
     "name": "stderr",
     "output_type": "stream",
     "text": [
      "Lossy conversion from float32 to uint8. Range [0.0, 9.913178443908691]. Convert image to uint8 prior to saving to suppress this warning.\n",
      "Lossy conversion from float32 to uint8. Range [0.0, 9.913178443908691]. Convert image to uint8 prior to saving to suppress this warning.\n",
      "Lossy conversion from float32 to uint8. Range [0.0, 9.913178443908691]. Convert image to uint8 prior to saving to suppress this warning.\n",
      "Lossy conversion from float32 to uint8. Range [0.0, 9.913178443908691]. Convert image to uint8 prior to saving to suppress this warning.\n",
      "Lossy conversion from float32 to uint8. Range [0.0, 9.913178443908691]. Convert image to uint8 prior to saving to suppress this warning.\n",
      "Lossy conversion from float32 to uint8. Range [0.0, 9.913178443908691]. Convert image to uint8 prior to saving to suppress this warning.\n",
      "Lossy conversion from float32 to uint8. Range [0.0, 9.913178443908691]. Convert image to uint8 prior to saving to suppress this warning.\n",
      "Lossy conversion from float32 to uint8. Range [0.0, 9.913178443908691]. Convert image to uint8 prior to saving to suppress this warning.\n",
      "Lossy conversion from float32 to uint8. Range [0.0, 9.913178443908691]. Convert image to uint8 prior to saving to suppress this warning.\n",
      "Lossy conversion from float32 to uint8. Range [0.0, 9.913178443908691]. Convert image to uint8 prior to saving to suppress this warning.\n",
      "Lossy conversion from float32 to uint8. Range [0.0, 9.913178443908691]. Convert image to uint8 prior to saving to suppress this warning.\n",
      "Lossy conversion from float32 to uint8. Range [0.0, 9.913178443908691]. Convert image to uint8 prior to saving to suppress this warning.\n",
      "Lossy conversion from float32 to uint8. Range [0.0, 9.913178443908691]. Convert image to uint8 prior to saving to suppress this warning.\n",
      "Lossy conversion from float32 to uint8. Range [0.0, 9.913178443908691]. Convert image to uint8 prior to saving to suppress this warning.\n",
      "Lossy conversion from float32 to uint8. Range [0.0, 9.913178443908691]. Convert image to uint8 prior to saving to suppress this warning.\n"
     ]
    }
   ],
   "source": [
    "imageio.mimsave('./animation.gif', val[0][1], fps=10)"
   ]
  },
  {
   "cell_type": "code",
   "execution_count": 56,
   "id": "222c0301",
   "metadata": {},
   "outputs": [
    {
     "data": {
      "text/plain": [
       "<matplotlib.image.AxesImage at 0x2e66785d480>"
      ]
     },
     "execution_count": 56,
     "metadata": {},
     "output_type": "execute_result"
    },
    {
     "data": {
      "image/png": "[encoded data removed]",
      "text/plain": [
       "<Figure size 640x480 with 1 Axes>"
      ]
     },
     "metadata": {},
     "output_type": "display_data"
    }
   ],
   "source": [
    "# First index: videos\n",
    "# Second index: first video out of the batch\n",
    "# Third index: return the first frame in the video\n",
    "plt.imshow(val[0][0][0])"
   ]
  },
  {
   "cell_type": "code",
   "execution_count": 57,
   "id": "863110ac",
   "metadata": {},
   "outputs": [
    {
     "data": {
      "text/plain": [
       "<tf.Tensor: shape=(), dtype=string, numpy=b'bin white by a seven again'>"
      ]
     },
     "execution_count": 57,
     "metadata": {},
     "output_type": "execute_result"
    }
   ],
   "source": [
    "tf.strings.reduce_join([num_to_char(word) for word in val[1][0]])"
   ]
  },
  {
   "cell_type": "markdown",
   "id": "ad081436",
   "metadata": {},
   "source": [
    "# Neural Network"
   ]
  },
  {
   "cell_type": "code",
   "execution_count": 59,
   "id": "42df15b0",
   "metadata": {},
   "outputs": [],
   "source": [
    "import os\n",
    "from tensorflow.keras.models import Sequential\n",
    "from tensorflow.keras.layers import Conv3D, LSTM, Dense, Dropout, Bidirectional, MaxPool3D, Activation, Reshape, BatchNormalization, TimeDistributed, Flatten\n",
    "from tensorflow.keras.optimizers import Adam\n",
    "from tensorflow.keras.callbacks import ModelCheckpoint, LearningRateScheduler"
   ]
  },
  {
   "cell_type": "code",
   "execution_count": 60,
   "id": "73e02197",
   "metadata": {},
   "outputs": [
    {
     "data": {
      "text/plain": [
       "(75, 46, 140, 1)"
      ]
     },
     "execution_count": 60,
     "metadata": {},
     "output_type": "execute_result"
    }
   ],
   "source": [
    "data.as_numpy_iterator().next()[0][0].shape"
   ]
  },
  {
   "cell_type": "code",
   "execution_count": 61,
   "id": "b7deb3d4",
   "metadata": {},
   "outputs": [],
   "source": [
    "model = Sequential()\n",
    "# 128 kernels, 3x3 in size\n",
    "# padding preserves shape of our inputs\n",
    "model.add(Conv3D(128,3,input_shape=(75,46,140,1),padding='same'))\n",
    "model.add(Activation('relu'))\n",
    "# Take max values from inside each frame and condense it down to a 2x2 frame\n",
    "model.add(MaxPool3D((1,2,2)))\n",
    "\n",
    "model.add(Conv3D(256,3,padding='same'))\n",
    "model.add(Activation('relu'))\n",
    "model.add(MaxPool3D((1,2,2)))\n",
    "\n",
    "model.add(Conv3D(75,3,padding='same'))\n",
    "model.add(Activation('relu'))\n",
    "model.add(MaxPool3D((1,2,2)))\n",
    "\n",
    "# 75 inputs into our LSTM network which will output 75 units that represent the text-based characters\n",
    "model.add(TimeDistributed(Flatten()))\n",
    "\n",
    "# Bidirectional: l -> r and r -> l\n",
    "model.add(Bidirectional(LSTM(128,kernel_initializer='Orthogonal', return_sequences=True)))\n",
    "# Regularization and drop 50% of the units\n",
    "model.add(Dropout(.5))\n",
    "\n",
    "model.add(Bidirectional(LSTM(128,kernel_initializer='Orthogonal', return_sequences=True)))\n",
    "model.add(Dropout(.5))\n",
    "\n",
    "model.add(Dense(char_to_num.vocabulary_size()+1, kernel_initializer='he_normal', activation='softmax'))"
   ]
  },
  {
   "cell_type": "code",
   "execution_count": 62,
   "id": "9b01b16a",
   "metadata": {},
   "outputs": [
    {
     "name": "stdout",
     "output_type": "stream",
     "text": [
      "Model: \"sequential\"\n",
      "_________________________________________________________________\n",
      " Layer (type)                Output Shape              Param #   \n",
      "=================================================================\n",
      " conv3d (Conv3D)             (None, 75, 46, 140, 128)  3584      \n",
      "                                                                 \n",
      " activation (Activation)     (None, 75, 46, 140, 128)  0         \n",
      "                                                                 \n",
      " max_pooling3d (MaxPooling3D  (None, 75, 23, 70, 128)  0         \n",
      " )                                                               \n",
      "                                                                 \n",
      " conv3d_1 (Conv3D)           (None, 75, 23, 70, 256)   884992    \n",
      "                                                                 \n",
      " activation_1 (Activation)   (None, 75, 23, 70, 256)   0         \n",
      "                                                                 \n",
      " max_pooling3d_1 (MaxPooling  (None, 75, 11, 35, 256)  0         \n",
      " 3D)                                                             \n",
      "                                                                 \n",
      " conv3d_2 (Conv3D)           (None, 75, 11, 35, 75)    518475    \n",
      "                                                                 \n",
      " activation_2 (Activation)   (None, 75, 11, 35, 75)    0         \n",
      "                                                                 \n",
      " max_pooling3d_2 (MaxPooling  (None, 75, 5, 17, 75)    0         \n",
      " 3D)                                                             \n",
      "                                                                 \n",
      " time_distributed (TimeDistr  (None, 75, 6375)         0         \n",
      " ibuted)                                                         \n",
      "                                                                 \n",
      " bidirectional (Bidirectiona  (None, 75, 256)          6660096   \n",
      " l)                                                              \n",
      "                                                                 \n",
      " dropout (Dropout)           (None, 75, 256)           0         \n",
      "                                                                 \n",
      " bidirectional_1 (Bidirectio  (None, 75, 256)          394240    \n",
      " nal)                                                            \n",
      "                                                                 \n",
      " dropout_1 (Dropout)         (None, 75, 256)           0         \n",
      "                                                                 \n",
      " dense (Dense)               (None, 75, 41)            10537     \n",
      "                                                                 \n",
      "=================================================================\n",
      "Total params: 8,471,924\n",
      "Trainable params: 8,471,924\n",
      "Non-trainable params: 0\n",
      "_________________________________________________________________\n"
     ]
    }
   ],
   "source": [
    "model.summary()"
   ]
  },
  {
   "cell_type": "code",
   "execution_count": 63,
   "id": "382776fa",
   "metadata": {},
   "outputs": [
    {
     "name": "stdout",
     "output_type": "stream",
     "text": [
      "1/1 [==============================] - 4s 4s/step\n"
     ]
    }
   ],
   "source": [
    "yhat = model.predict(val[0])"
   ]
  },
  {
   "cell_type": "code",
   "execution_count": 68,
   "id": "41f1a5fd",
   "metadata": {},
   "outputs": [
    {
     "data": {
      "text/plain": [
       "<tf.Tensor: shape=(), dtype=string, numpy=b'zzzzzzzzzzzzzzzzzzzzzzzzzzzzzzzzz5zzzzzzzzzzzzzzzzzzzzzzzzzzzzzz5555zkkkkkk'>"
      ]
     },
     "execution_count": 68,
     "metadata": {},
     "output_type": "execute_result"
    }
   ],
   "source": [
    "tf.strings.reduce_join([num_to_char(tf.argmax(x)) for x in yhat[0]])"
   ]
  },
  {
   "cell_type": "code",
   "execution_count": 69,
   "id": "e327ab46",
   "metadata": {},
   "outputs": [
    {
     "data": {
      "text/plain": [
       "[<tf.Tensor: shape=(), dtype=string, numpy=b'z'>,\n",
       " <tf.Tensor: shape=(), dtype=string, numpy=b'z'>,\n",
       " <tf.Tensor: shape=(), dtype=string, numpy=b'z'>,\n",
       " <tf.Tensor: shape=(), dtype=string, numpy=b'z'>,\n",
       " <tf.Tensor: shape=(), dtype=string, numpy=b'z'>,\n",
       " <tf.Tensor: shape=(), dtype=string, numpy=b'z'>,\n",
       " <tf.Tensor: shape=(), dtype=string, numpy=b'z'>,\n",
       " <tf.Tensor: shape=(), dtype=string, numpy=b'z'>,\n",
       " <tf.Tensor: shape=(), dtype=string, numpy=b'z'>,\n",
       " <tf.Tensor: shape=(), dtype=string, numpy=b'z'>,\n",
       " <tf.Tensor: shape=(), dtype=string, numpy=b'z'>,\n",
       " <tf.Tensor: shape=(), dtype=string, numpy=b'z'>,\n",
       " <tf.Tensor: shape=(), dtype=string, numpy=b'z'>,\n",
       " <tf.Tensor: shape=(), dtype=string, numpy=b'z'>,\n",
       " <tf.Tensor: shape=(), dtype=string, numpy=b'z'>,\n",
       " <tf.Tensor: shape=(), dtype=string, numpy=b'z'>,\n",
       " <tf.Tensor: shape=(), dtype=string, numpy=b'z'>,\n",
       " <tf.Tensor: shape=(), dtype=string, numpy=b'z'>,\n",
       " <tf.Tensor: shape=(), dtype=string, numpy=b'z'>,\n",
       " <tf.Tensor: shape=(), dtype=string, numpy=b'z'>,\n",
       " <tf.Tensor: shape=(), dtype=string, numpy=b'z'>,\n",
       " <tf.Tensor: shape=(), dtype=string, numpy=b'z'>,\n",
       " <tf.Tensor: shape=(), dtype=string, numpy=b'z'>,\n",
       " <tf.Tensor: shape=(), dtype=string, numpy=b'z'>,\n",
       " <tf.Tensor: shape=(), dtype=string, numpy=b'z'>,\n",
       " <tf.Tensor: shape=(), dtype=string, numpy=b'z'>,\n",
       " <tf.Tensor: shape=(), dtype=string, numpy=b'z'>,\n",
       " <tf.Tensor: shape=(), dtype=string, numpy=b'z'>,\n",
       " <tf.Tensor: shape=(), dtype=string, numpy=b'z'>,\n",
       " <tf.Tensor: shape=(), dtype=string, numpy=b'z'>,\n",
       " <tf.Tensor: shape=(), dtype=string, numpy=b'z'>,\n",
       " <tf.Tensor: shape=(), dtype=string, numpy=b'z'>,\n",
       " <tf.Tensor: shape=(), dtype=string, numpy=b'z'>,\n",
       " <tf.Tensor: shape=(), dtype=string, numpy=b'5'>,\n",
       " <tf.Tensor: shape=(), dtype=string, numpy=b'z'>,\n",
       " <tf.Tensor: shape=(), dtype=string, numpy=b'z'>,\n",
       " <tf.Tensor: shape=(), dtype=string, numpy=b'z'>,\n",
       " <tf.Tensor: shape=(), dtype=string, numpy=b'z'>,\n",
       " <tf.Tensor: shape=(), dtype=string, numpy=b'z'>,\n",
       " <tf.Tensor: shape=(), dtype=string, numpy=b'z'>,\n",
       " <tf.Tensor: shape=(), dtype=string, numpy=b'z'>,\n",
       " <tf.Tensor: shape=(), dtype=string, numpy=b'z'>,\n",
       " <tf.Tensor: shape=(), dtype=string, numpy=b'z'>,\n",
       " <tf.Tensor: shape=(), dtype=string, numpy=b'z'>,\n",
       " <tf.Tensor: shape=(), dtype=string, numpy=b'z'>,\n",
       " <tf.Tensor: shape=(), dtype=string, numpy=b'z'>,\n",
       " <tf.Tensor: shape=(), dtype=string, numpy=b'z'>,\n",
       " <tf.Tensor: shape=(), dtype=string, numpy=b'z'>,\n",
       " <tf.Tensor: shape=(), dtype=string, numpy=b'z'>,\n",
       " <tf.Tensor: shape=(), dtype=string, numpy=b'z'>,\n",
       " <tf.Tensor: shape=(), dtype=string, numpy=b'z'>,\n",
       " <tf.Tensor: shape=(), dtype=string, numpy=b'z'>,\n",
       " <tf.Tensor: shape=(), dtype=string, numpy=b'z'>,\n",
       " <tf.Tensor: shape=(), dtype=string, numpy=b'z'>,\n",
       " <tf.Tensor: shape=(), dtype=string, numpy=b'z'>,\n",
       " <tf.Tensor: shape=(), dtype=string, numpy=b'z'>,\n",
       " <tf.Tensor: shape=(), dtype=string, numpy=b'z'>,\n",
       " <tf.Tensor: shape=(), dtype=string, numpy=b'z'>,\n",
       " <tf.Tensor: shape=(), dtype=string, numpy=b'z'>,\n",
       " <tf.Tensor: shape=(), dtype=string, numpy=b'z'>,\n",
       " <tf.Tensor: shape=(), dtype=string, numpy=b'z'>,\n",
       " <tf.Tensor: shape=(), dtype=string, numpy=b'z'>,\n",
       " <tf.Tensor: shape=(), dtype=string, numpy=b'z'>,\n",
       " <tf.Tensor: shape=(), dtype=string, numpy=b'z'>,\n",
       " <tf.Tensor: shape=(), dtype=string, numpy=b'5'>,\n",
       " <tf.Tensor: shape=(), dtype=string, numpy=b'5'>,\n",
       " <tf.Tensor: shape=(), dtype=string, numpy=b'5'>,\n",
       " <tf.Tensor: shape=(), dtype=string, numpy=b'5'>,\n",
       " <tf.Tensor: shape=(), dtype=string, numpy=b'z'>,\n",
       " <tf.Tensor: shape=(), dtype=string, numpy=b'k'>,\n",
       " <tf.Tensor: shape=(), dtype=string, numpy=b'k'>,\n",
       " <tf.Tensor: shape=(), dtype=string, numpy=b'k'>,\n",
       " <tf.Tensor: shape=(), dtype=string, numpy=b'k'>,\n",
       " <tf.Tensor: shape=(), dtype=string, numpy=b'k'>,\n",
       " <tf.Tensor: shape=(), dtype=string, numpy=b'k'>]"
      ]
     },
     "execution_count": 69,
     "metadata": {},
     "output_type": "execute_result"
    }
   ],
   "source": [
    "[num_to_char(x) for x in tf.argmax(yhat[0],axis=1)]"
   ]
  },
  {
   "cell_type": "code",
   "execution_count": 67,
   "id": "2dcb7eed",
   "metadata": {},
   "outputs": [
    {
     "data": {
      "text/plain": [
       "<tf.Tensor: shape=(75,), dtype=int64, numpy=\n",
       "array([26, 26, 26, 26, 26, 26, 26, 26, 26, 26, 26, 26, 26, 26, 26, 26, 26,\n",
       "       26, 26, 26, 26, 26, 26, 26, 26, 26, 26, 26, 26, 26, 26, 26, 26, 34,\n",
       "       26, 26, 26, 26, 26, 26, 26, 26, 26, 26, 26, 26, 26, 26, 26, 26, 26,\n",
       "       26, 26, 26, 26, 26, 26, 26, 26, 26, 26, 26, 26, 26, 34, 34, 34, 34,\n",
       "       26, 11, 11, 11, 11, 11, 11], dtype=int64)>"
      ]
     },
     "execution_count": 67,
     "metadata": {},
     "output_type": "execute_result"
    }
   ],
   "source": [
    "# 75 outputs with each having an array of 41 values\n",
    "yhat[0].shape\n",
    "tf.argmax(yhat[0],axis=1)"
   ]
  },
  {
   "cell_type": "code",
   "execution_count": 70,
   "id": "6e1f509a",
   "metadata": {},
   "outputs": [
    {
     "data": {
      "text/plain": [
       "(None, 75, 46, 140, 1)"
      ]
     },
     "execution_count": 70,
     "metadata": {},
     "output_type": "execute_result"
    }
   ],
   "source": [
    "model.input_shape"
   ]
  },
  {
   "cell_type": "code",
   "execution_count": 71,
   "id": "18ab6ca1",
   "metadata": {},
   "outputs": [
    {
     "data": {
      "text/plain": [
       "(None, 75, 41)"
      ]
     },
     "execution_count": 71,
     "metadata": {},
     "output_type": "execute_result"
    }
   ],
   "source": [
    "model.output_shape"
   ]
  },
  {
   "cell_type": "markdown",
   "id": "b342be61",
   "metadata": {},
   "source": [
    "# Training"
   ]
  },
  {
   "cell_type": "code",
   "execution_count": 72,
   "id": "03a098a6",
   "metadata": {},
   "outputs": [],
   "source": [
    "# Drop our learning rate each epoch\n",
    "def scheduler(epoch, lr):\n",
    "    if epoch < 30:\n",
    "        return lr\n",
    "    else:\n",
    "        return lr * tf.math.exp(-0.1)"
   ]
  },
  {
   "cell_type": "code",
   "execution_count": 73,
   "id": "06908784",
   "metadata": {},
   "outputs": [],
   "source": [
    "def CTCLoss(y_true, y_pred):\n",
    "    batch_len = tf.cast(tf.shape(y_true)[0], dtype='int64')\n",
    "    input_length = tf.cast(tf.shape(y_pred)[1], dtype='int64')\n",
    "    label_length = tf.cast(tf.shape(y_true)[1], dtype='int64')\n",
    "    \n",
    "    input_length = input_length * tf.ones(shape=(batch_len,1), dtype='int64')\n",
    "    label_length = label_length * tf.ones(shape=(batch_len,1), dtype='int64')\n",
    "    \n",
    "    loss = tf.keras.backend.ctc_batch_cost(y_true, y_pred, input_length, label_length)\n",
    "    \n",
    "    return loss"
   ]
  },
  {
   "cell_type": "code",
   "execution_count": 74,
   "id": "2067f3d4",
   "metadata": {},
   "outputs": [],
   "source": [
    "class ProduceExample(tf.keras.callbacks.Callback):\n",
    "    def __init__(self, dataset) -> None:\n",
    "        self.dataset = dataset.as_numpy_iterator()\n",
    "    \n",
    "    def on_epoch_end(self, epoch, logs=None) -> None:\n",
    "        data = self.dataset.next()\n",
    "        yhat = self.model.predict(data[0])\n",
    "        # Decode outputs from the CTC classifier\n",
    "        decoded = tf.keras.backend.ctc_decode(yhat, [75,75], greedy=False)[0][0].numpy()\n",
    "        \n",
    "        for x in range(len(yhat)):\n",
    "            print('Original: ', tf.strings.reduce_join(num_to_char(data[1][x])).numpy().decode('UTF-8'))\n",
    "            print('Prediction: ', tf.strings.reduce_join(decoded(data[x])).numpy().decode('UTF-8'))\n",
    "            print('~'*100)"
   ]
  },
  {
   "cell_type": "code",
   "execution_count": 75,
   "id": "3d73ac14",
   "metadata": {},
   "outputs": [],
   "source": [
    "model.compile(optimizer=Adam(learning_rate=0.0001), loss=CTCLoss)"
   ]
  },
  {
   "cell_type": "code",
   "execution_count": 76,
   "id": "bce089d6",
   "metadata": {},
   "outputs": [],
   "source": [
    "checkpoint_callback = ModelCheckpoint(os.path.join('models', 'checkpoint'), monitor='loss', save_weights_only=True)"
   ]
  },
  {
   "cell_type": "code",
   "execution_count": 77,
   "id": "482eb7b5",
   "metadata": {},
   "outputs": [],
   "source": [
    "schedule_callback = LearningRateScheduler(scheduler)"
   ]
  },
  {
   "cell_type": "code",
   "execution_count": 78,
   "id": "5ffdc908",
   "metadata": {},
   "outputs": [],
   "source": [
    "# Make some predictions after each epoch\n",
    "example_callback = ProduceExample(data)"
   ]
  },
  {
   "cell_type": "code",
   "execution_count": 84,
   "id": "b9202989",
   "metadata": {},
   "outputs": [
    {
     "name": "stdout",
     "output_type": "stream",
     "text": [
      "Epoch 1/100\n",
      "  2/450 [..............................] - ETA: 3:40:02 - loss: 128.7669"
     ]
    },
    {
     "ename": "KeyboardInterrupt",
     "evalue": "",
     "output_type": "error",
     "traceback": [
      "\u001b[1;31m---------------------------------------------------------------------------\u001b[0m",
      "\u001b[1;31mKeyboardInterrupt\u001b[0m                         Traceback (most recent call last)",
      "Cell \u001b[1;32mIn[84], line 1\u001b[0m\n\u001b[1;32m----> 1\u001b[0m \u001b[43mmodel\u001b[49m\u001b[38;5;241;43m.\u001b[39;49m\u001b[43mfit\u001b[49m\u001b[43m(\u001b[49m\u001b[43mtrain\u001b[49m\u001b[43m,\u001b[49m\u001b[43m \u001b[49m\u001b[43mvalidation_data\u001b[49m\u001b[38;5;241;43m=\u001b[39;49m\u001b[43mtest\u001b[49m\u001b[43m,\u001b[49m\u001b[43m \u001b[49m\u001b[43mepochs\u001b[49m\u001b[38;5;241;43m=\u001b[39;49m\u001b[38;5;241;43m100\u001b[39;49m\u001b[43m,\u001b[49m\u001b[43m \u001b[49m\u001b[43mcallbacks\u001b[49m\u001b[38;5;241;43m=\u001b[39;49m\u001b[43m[\u001b[49m\u001b[43mcheckpoint_callback\u001b[49m\u001b[43m,\u001b[49m\u001b[43m \u001b[49m\u001b[43mschedule_callback\u001b[49m\u001b[43m,\u001b[49m\u001b[43m \u001b[49m\u001b[43mexample_callback\u001b[49m\u001b[43m]\u001b[49m\u001b[43m)\u001b[49m\n",
      "File \u001b[1;32m~\\AppData\\Roaming\\Python\\Python310\\site-packages\\keras\\utils\\traceback_utils.py:65\u001b[0m, in \u001b[0;36mfilter_traceback.<locals>.error_handler\u001b[1;34m(*args, **kwargs)\u001b[0m\n\u001b[0;32m     63\u001b[0m filtered_tb \u001b[38;5;241m=\u001b[39m \u001b[38;5;28;01mNone\u001b[39;00m\n\u001b[0;32m     64\u001b[0m \u001b[38;5;28;01mtry\u001b[39;00m:\n\u001b[1;32m---> 65\u001b[0m     \u001b[38;5;28;01mreturn\u001b[39;00m fn(\u001b[38;5;241m*\u001b[39margs, \u001b[38;5;241m*\u001b[39m\u001b[38;5;241m*\u001b[39mkwargs)\n\u001b[0;32m     66\u001b[0m \u001b[38;5;28;01mexcept\u001b[39;00m \u001b[38;5;167;01mException\u001b[39;00m \u001b[38;5;28;01mas\u001b[39;00m e:\n\u001b[0;32m     67\u001b[0m     filtered_tb \u001b[38;5;241m=\u001b[39m _process_traceback_frames(e\u001b[38;5;241m.\u001b[39m__traceback__)\n",
      "File \u001b[1;32m~\\AppData\\Roaming\\Python\\Python310\\site-packages\\keras\\engine\\training.py:1564\u001b[0m, in \u001b[0;36mModel.fit\u001b[1;34m(self, x, y, batch_size, epochs, verbose, callbacks, validation_split, validation_data, shuffle, class_weight, sample_weight, initial_epoch, steps_per_epoch, validation_steps, validation_batch_size, validation_freq, max_queue_size, workers, use_multiprocessing)\u001b[0m\n\u001b[0;32m   1556\u001b[0m \u001b[38;5;28;01mwith\u001b[39;00m tf\u001b[38;5;241m.\u001b[39mprofiler\u001b[38;5;241m.\u001b[39mexperimental\u001b[38;5;241m.\u001b[39mTrace(\n\u001b[0;32m   1557\u001b[0m     \u001b[38;5;124m\"\u001b[39m\u001b[38;5;124mtrain\u001b[39m\u001b[38;5;124m\"\u001b[39m,\n\u001b[0;32m   1558\u001b[0m     epoch_num\u001b[38;5;241m=\u001b[39mepoch,\n\u001b[1;32m   (...)\u001b[0m\n\u001b[0;32m   1561\u001b[0m     _r\u001b[38;5;241m=\u001b[39m\u001b[38;5;241m1\u001b[39m,\n\u001b[0;32m   1562\u001b[0m ):\n\u001b[0;32m   1563\u001b[0m     callbacks\u001b[38;5;241m.\u001b[39mon_train_batch_begin(step)\n\u001b[1;32m-> 1564\u001b[0m     tmp_logs \u001b[38;5;241m=\u001b[39m \u001b[38;5;28;43mself\u001b[39;49m\u001b[38;5;241;43m.\u001b[39;49m\u001b[43mtrain_function\u001b[49m\u001b[43m(\u001b[49m\u001b[43miterator\u001b[49m\u001b[43m)\u001b[49m\n\u001b[0;32m   1565\u001b[0m     \u001b[38;5;28;01mif\u001b[39;00m data_handler\u001b[38;5;241m.\u001b[39mshould_sync:\n\u001b[0;32m   1566\u001b[0m         context\u001b[38;5;241m.\u001b[39masync_wait()\n",
      "File \u001b[1;32m~\\AppData\\Roaming\\Python\\Python310\\site-packages\\tensorflow\\python\\util\\traceback_utils.py:150\u001b[0m, in \u001b[0;36mfilter_traceback.<locals>.error_handler\u001b[1;34m(*args, **kwargs)\u001b[0m\n\u001b[0;32m    148\u001b[0m filtered_tb \u001b[38;5;241m=\u001b[39m \u001b[38;5;28;01mNone\u001b[39;00m\n\u001b[0;32m    149\u001b[0m \u001b[38;5;28;01mtry\u001b[39;00m:\n\u001b[1;32m--> 150\u001b[0m   \u001b[38;5;28;01mreturn\u001b[39;00m fn(\u001b[38;5;241m*\u001b[39margs, \u001b[38;5;241m*\u001b[39m\u001b[38;5;241m*\u001b[39mkwargs)\n\u001b[0;32m    151\u001b[0m \u001b[38;5;28;01mexcept\u001b[39;00m \u001b[38;5;167;01mException\u001b[39;00m \u001b[38;5;28;01mas\u001b[39;00m e:\n\u001b[0;32m    152\u001b[0m   filtered_tb \u001b[38;5;241m=\u001b[39m _process_traceback_frames(e\u001b[38;5;241m.\u001b[39m__traceback__)\n",
      "File \u001b[1;32m~\\AppData\\Roaming\\Python\\Python310\\site-packages\\tensorflow\\python\\eager\\def_function.py:915\u001b[0m, in \u001b[0;36mFunction.__call__\u001b[1;34m(self, *args, **kwds)\u001b[0m\n\u001b[0;32m    912\u001b[0m compiler \u001b[38;5;241m=\u001b[39m \u001b[38;5;124m\"\u001b[39m\u001b[38;5;124mxla\u001b[39m\u001b[38;5;124m\"\u001b[39m \u001b[38;5;28;01mif\u001b[39;00m \u001b[38;5;28mself\u001b[39m\u001b[38;5;241m.\u001b[39m_jit_compile \u001b[38;5;28;01melse\u001b[39;00m \u001b[38;5;124m\"\u001b[39m\u001b[38;5;124mnonXla\u001b[39m\u001b[38;5;124m\"\u001b[39m\n\u001b[0;32m    914\u001b[0m \u001b[38;5;28;01mwith\u001b[39;00m OptionalXlaContext(\u001b[38;5;28mself\u001b[39m\u001b[38;5;241m.\u001b[39m_jit_compile):\n\u001b[1;32m--> 915\u001b[0m   result \u001b[38;5;241m=\u001b[39m \u001b[38;5;28mself\u001b[39m\u001b[38;5;241m.\u001b[39m_call(\u001b[38;5;241m*\u001b[39margs, \u001b[38;5;241m*\u001b[39m\u001b[38;5;241m*\u001b[39mkwds)\n\u001b[0;32m    917\u001b[0m new_tracing_count \u001b[38;5;241m=\u001b[39m \u001b[38;5;28mself\u001b[39m\u001b[38;5;241m.\u001b[39mexperimental_get_tracing_count()\n\u001b[0;32m    918\u001b[0m without_tracing \u001b[38;5;241m=\u001b[39m (tracing_count \u001b[38;5;241m==\u001b[39m new_tracing_count)\n",
      "File \u001b[1;32m~\\AppData\\Roaming\\Python\\Python310\\site-packages\\tensorflow\\python\\eager\\def_function.py:947\u001b[0m, in \u001b[0;36mFunction._call\u001b[1;34m(self, *args, **kwds)\u001b[0m\n\u001b[0;32m    944\u001b[0m   \u001b[38;5;28mself\u001b[39m\u001b[38;5;241m.\u001b[39m_lock\u001b[38;5;241m.\u001b[39mrelease()\n\u001b[0;32m    945\u001b[0m   \u001b[38;5;66;03m# In this case we have created variables on the first call, so we run the\u001b[39;00m\n\u001b[0;32m    946\u001b[0m   \u001b[38;5;66;03m# defunned version which is guaranteed to never create variables.\u001b[39;00m\n\u001b[1;32m--> 947\u001b[0m   \u001b[38;5;28;01mreturn\u001b[39;00m \u001b[38;5;28mself\u001b[39m\u001b[38;5;241m.\u001b[39m_stateless_fn(\u001b[38;5;241m*\u001b[39margs, \u001b[38;5;241m*\u001b[39m\u001b[38;5;241m*\u001b[39mkwds)  \u001b[38;5;66;03m# pylint: disable=not-callable\u001b[39;00m\n\u001b[0;32m    948\u001b[0m \u001b[38;5;28;01melif\u001b[39;00m \u001b[38;5;28mself\u001b[39m\u001b[38;5;241m.\u001b[39m_stateful_fn \u001b[38;5;129;01mis\u001b[39;00m \u001b[38;5;129;01mnot\u001b[39;00m \u001b[38;5;28;01mNone\u001b[39;00m:\n\u001b[0;32m    949\u001b[0m   \u001b[38;5;66;03m# Release the lock early so that multiple threads can perform the call\u001b[39;00m\n\u001b[0;32m    950\u001b[0m   \u001b[38;5;66;03m# in parallel.\u001b[39;00m\n\u001b[0;32m    951\u001b[0m   \u001b[38;5;28mself\u001b[39m\u001b[38;5;241m.\u001b[39m_lock\u001b[38;5;241m.\u001b[39mrelease()\n",
      "File \u001b[1;32m~\\AppData\\Roaming\\Python\\Python310\\site-packages\\tensorflow\\python\\eager\\function.py:2496\u001b[0m, in \u001b[0;36mFunction.__call__\u001b[1;34m(self, *args, **kwargs)\u001b[0m\n\u001b[0;32m   2493\u001b[0m \u001b[38;5;28;01mwith\u001b[39;00m \u001b[38;5;28mself\u001b[39m\u001b[38;5;241m.\u001b[39m_lock:\n\u001b[0;32m   2494\u001b[0m   (graph_function,\n\u001b[0;32m   2495\u001b[0m    filtered_flat_args) \u001b[38;5;241m=\u001b[39m \u001b[38;5;28mself\u001b[39m\u001b[38;5;241m.\u001b[39m_maybe_define_function(args, kwargs)\n\u001b[1;32m-> 2496\u001b[0m \u001b[38;5;28;01mreturn\u001b[39;00m \u001b[43mgraph_function\u001b[49m\u001b[38;5;241;43m.\u001b[39;49m\u001b[43m_call_flat\u001b[49m\u001b[43m(\u001b[49m\n\u001b[0;32m   2497\u001b[0m \u001b[43m    \u001b[49m\u001b[43mfiltered_flat_args\u001b[49m\u001b[43m,\u001b[49m\u001b[43m \u001b[49m\u001b[43mcaptured_inputs\u001b[49m\u001b[38;5;241;43m=\u001b[39;49m\u001b[43mgraph_function\u001b[49m\u001b[38;5;241;43m.\u001b[39;49m\u001b[43mcaptured_inputs\u001b[49m\u001b[43m)\u001b[49m\n",
      "File \u001b[1;32m~\\AppData\\Roaming\\Python\\Python310\\site-packages\\tensorflow\\python\\eager\\function.py:1862\u001b[0m, in \u001b[0;36mConcreteFunction._call_flat\u001b[1;34m(self, args, captured_inputs, cancellation_manager)\u001b[0m\n\u001b[0;32m   1858\u001b[0m possible_gradient_type \u001b[38;5;241m=\u001b[39m gradients_util\u001b[38;5;241m.\u001b[39mPossibleTapeGradientTypes(args)\n\u001b[0;32m   1859\u001b[0m \u001b[38;5;28;01mif\u001b[39;00m (possible_gradient_type \u001b[38;5;241m==\u001b[39m gradients_util\u001b[38;5;241m.\u001b[39mPOSSIBLE_GRADIENT_TYPES_NONE\n\u001b[0;32m   1860\u001b[0m     \u001b[38;5;129;01mand\u001b[39;00m executing_eagerly):\n\u001b[0;32m   1861\u001b[0m   \u001b[38;5;66;03m# No tape is watching; skip to running the function.\u001b[39;00m\n\u001b[1;32m-> 1862\u001b[0m   \u001b[38;5;28;01mreturn\u001b[39;00m \u001b[38;5;28mself\u001b[39m\u001b[38;5;241m.\u001b[39m_build_call_outputs(\u001b[38;5;28;43mself\u001b[39;49m\u001b[38;5;241;43m.\u001b[39;49m\u001b[43m_inference_function\u001b[49m\u001b[38;5;241;43m.\u001b[39;49m\u001b[43mcall\u001b[49m\u001b[43m(\u001b[49m\n\u001b[0;32m   1863\u001b[0m \u001b[43m      \u001b[49m\u001b[43mctx\u001b[49m\u001b[43m,\u001b[49m\u001b[43m \u001b[49m\u001b[43margs\u001b[49m\u001b[43m,\u001b[49m\u001b[43m \u001b[49m\u001b[43mcancellation_manager\u001b[49m\u001b[38;5;241;43m=\u001b[39;49m\u001b[43mcancellation_manager\u001b[49m\u001b[43m)\u001b[49m)\n\u001b[0;32m   1864\u001b[0m forward_backward \u001b[38;5;241m=\u001b[39m \u001b[38;5;28mself\u001b[39m\u001b[38;5;241m.\u001b[39m_select_forward_and_backward_functions(\n\u001b[0;32m   1865\u001b[0m     args,\n\u001b[0;32m   1866\u001b[0m     possible_gradient_type,\n\u001b[0;32m   1867\u001b[0m     executing_eagerly)\n\u001b[0;32m   1868\u001b[0m forward_function, args_with_tangents \u001b[38;5;241m=\u001b[39m forward_backward\u001b[38;5;241m.\u001b[39mforward()\n",
      "File \u001b[1;32m~\\AppData\\Roaming\\Python\\Python310\\site-packages\\tensorflow\\python\\eager\\function.py:499\u001b[0m, in \u001b[0;36m_EagerDefinedFunction.call\u001b[1;34m(self, ctx, args, cancellation_manager)\u001b[0m\n\u001b[0;32m    497\u001b[0m \u001b[38;5;28;01mwith\u001b[39;00m _InterpolateFunctionError(\u001b[38;5;28mself\u001b[39m):\n\u001b[0;32m    498\u001b[0m   \u001b[38;5;28;01mif\u001b[39;00m cancellation_manager \u001b[38;5;129;01mis\u001b[39;00m \u001b[38;5;28;01mNone\u001b[39;00m:\n\u001b[1;32m--> 499\u001b[0m     outputs \u001b[38;5;241m=\u001b[39m \u001b[43mexecute\u001b[49m\u001b[38;5;241;43m.\u001b[39;49m\u001b[43mexecute\u001b[49m\u001b[43m(\u001b[49m\n\u001b[0;32m    500\u001b[0m \u001b[43m        \u001b[49m\u001b[38;5;28;43mstr\u001b[39;49m\u001b[43m(\u001b[49m\u001b[38;5;28;43mself\u001b[39;49m\u001b[38;5;241;43m.\u001b[39;49m\u001b[43msignature\u001b[49m\u001b[38;5;241;43m.\u001b[39;49m\u001b[43mname\u001b[49m\u001b[43m)\u001b[49m\u001b[43m,\u001b[49m\n\u001b[0;32m    501\u001b[0m \u001b[43m        \u001b[49m\u001b[43mnum_outputs\u001b[49m\u001b[38;5;241;43m=\u001b[39;49m\u001b[38;5;28;43mself\u001b[39;49m\u001b[38;5;241;43m.\u001b[39;49m\u001b[43m_num_outputs\u001b[49m\u001b[43m,\u001b[49m\n\u001b[0;32m    502\u001b[0m \u001b[43m        \u001b[49m\u001b[43minputs\u001b[49m\u001b[38;5;241;43m=\u001b[39;49m\u001b[43margs\u001b[49m\u001b[43m,\u001b[49m\n\u001b[0;32m    503\u001b[0m \u001b[43m        \u001b[49m\u001b[43mattrs\u001b[49m\u001b[38;5;241;43m=\u001b[39;49m\u001b[43mattrs\u001b[49m\u001b[43m,\u001b[49m\n\u001b[0;32m    504\u001b[0m \u001b[43m        \u001b[49m\u001b[43mctx\u001b[49m\u001b[38;5;241;43m=\u001b[39;49m\u001b[43mctx\u001b[49m\u001b[43m)\u001b[49m\n\u001b[0;32m    505\u001b[0m   \u001b[38;5;28;01melse\u001b[39;00m:\n\u001b[0;32m    506\u001b[0m     outputs \u001b[38;5;241m=\u001b[39m execute\u001b[38;5;241m.\u001b[39mexecute_with_cancellation(\n\u001b[0;32m    507\u001b[0m         \u001b[38;5;28mstr\u001b[39m(\u001b[38;5;28mself\u001b[39m\u001b[38;5;241m.\u001b[39msignature\u001b[38;5;241m.\u001b[39mname),\n\u001b[0;32m    508\u001b[0m         num_outputs\u001b[38;5;241m=\u001b[39m\u001b[38;5;28mself\u001b[39m\u001b[38;5;241m.\u001b[39m_num_outputs,\n\u001b[1;32m   (...)\u001b[0m\n\u001b[0;32m    511\u001b[0m         ctx\u001b[38;5;241m=\u001b[39mctx,\n\u001b[0;32m    512\u001b[0m         cancellation_manager\u001b[38;5;241m=\u001b[39mcancellation_manager)\n",
      "File \u001b[1;32m~\\AppData\\Roaming\\Python\\Python310\\site-packages\\tensorflow\\python\\eager\\execute.py:54\u001b[0m, in \u001b[0;36mquick_execute\u001b[1;34m(op_name, num_outputs, inputs, attrs, ctx, name)\u001b[0m\n\u001b[0;32m     52\u001b[0m \u001b[38;5;28;01mtry\u001b[39;00m:\n\u001b[0;32m     53\u001b[0m   ctx\u001b[38;5;241m.\u001b[39mensure_initialized()\n\u001b[1;32m---> 54\u001b[0m   tensors \u001b[38;5;241m=\u001b[39m \u001b[43mpywrap_tfe\u001b[49m\u001b[38;5;241;43m.\u001b[39;49m\u001b[43mTFE_Py_Execute\u001b[49m\u001b[43m(\u001b[49m\u001b[43mctx\u001b[49m\u001b[38;5;241;43m.\u001b[39;49m\u001b[43m_handle\u001b[49m\u001b[43m,\u001b[49m\u001b[43m \u001b[49m\u001b[43mdevice_name\u001b[49m\u001b[43m,\u001b[49m\u001b[43m \u001b[49m\u001b[43mop_name\u001b[49m\u001b[43m,\u001b[49m\n\u001b[0;32m     55\u001b[0m \u001b[43m                                      \u001b[49m\u001b[43minputs\u001b[49m\u001b[43m,\u001b[49m\u001b[43m \u001b[49m\u001b[43mattrs\u001b[49m\u001b[43m,\u001b[49m\u001b[43m \u001b[49m\u001b[43mnum_outputs\u001b[49m\u001b[43m)\u001b[49m\n\u001b[0;32m     56\u001b[0m \u001b[38;5;28;01mexcept\u001b[39;00m core\u001b[38;5;241m.\u001b[39m_NotOkStatusException \u001b[38;5;28;01mas\u001b[39;00m e:\n\u001b[0;32m     57\u001b[0m   \u001b[38;5;28;01mif\u001b[39;00m name \u001b[38;5;129;01mis\u001b[39;00m \u001b[38;5;129;01mnot\u001b[39;00m \u001b[38;5;28;01mNone\u001b[39;00m:\n",
      "\u001b[1;31mKeyboardInterrupt\u001b[0m: "
     ]
    }
   ],
   "source": [
    "model.fit(train, validation_data=test, epochs=100, callbacks=[checkpoint_callback, schedule_callback, example_callback])"
   ]
  },
  {
   "cell_type": "markdown",
   "id": "40fca848",
   "metadata": {},
   "source": [
    "# Prediction"
   ]
  },
  {
   "cell_type": "code",
   "execution_count": 85,
   "id": "164b8161",
   "metadata": {},
   "outputs": [
    {
     "name": "stderr",
     "output_type": "stream",
     "text": [
      "Downloading...\n",
      "From: https://drive.google.com/uc?id=1vWscXs4Vt0a_1IH1-ct2TCgXAZT-N3_Y\n",
      "To: C:\\Users\\yacoo\\LipReadingDeepLearning\\LipReading\\checkpoints.zip\n",
      "100%|█████████████████████████████████████████████████████████████████████████████| 94.5M/94.5M [00:13<00:00, 6.86MB/s]\n"
     ]
    },
    {
     "data": {
      "text/plain": [
       "['models\\\\checkpoint.index',\n",
       " 'models\\\\__MACOSX/._checkpoint.index',\n",
       " 'models\\\\checkpoint.data-00000-of-00001',\n",
       " 'models\\\\__MACOSX/._checkpoint.data-00000-of-00001',\n",
       " 'models\\\\checkpoint',\n",
       " 'models\\\\__MACOSX/._checkpoint']"
      ]
     },
     "execution_count": 85,
     "metadata": {},
     "output_type": "execute_result"
    }
   ],
   "source": [
    "url = 'https://drive.google.com/uc?id=1vWscXs4Vt0a_1IH1-ct2TCgXAZT-N3_Y'\n",
    "output = 'checkpoints.zip'\n",
    "gdown.download(url, output, quiet=False)\n",
    "gdown.extractall('checkpoints.zip', 'models')"
   ]
  },
  {
   "cell_type": "code",
   "execution_count": 86,
   "id": "35169538",
   "metadata": {},
   "outputs": [
    {
     "data": {
      "text/plain": [
       "<tensorflow.python.checkpoint.checkpoint.CheckpointLoadStatus at 0x2e6809ca140>"
      ]
     },
     "execution_count": 86,
     "metadata": {},
     "output_type": "execute_result"
    }
   ],
   "source": [
    "model.load_weights('models/checkpoint')"
   ]
  },
  {
   "cell_type": "code",
   "execution_count": 87,
   "id": "e5cc0d74",
   "metadata": {},
   "outputs": [],
   "source": [
    "test_data = test.as_numpy_iterator()"
   ]
  },
  {
   "cell_type": "code",
   "execution_count": 99,
   "id": "7cebfcdd",
   "metadata": {},
   "outputs": [],
   "source": [
    "sample = test_data.next()"
   ]
  },
  {
   "cell_type": "code",
   "execution_count": 100,
   "id": "5bdfd2fc",
   "metadata": {},
   "outputs": [
    {
     "name": "stdout",
     "output_type": "stream",
     "text": [
      "1/1 [==============================] - 2s 2s/step\n"
     ]
    }
   ],
   "source": [
    "yhat = model.predict(sample[0])"
   ]
  },
  {
   "cell_type": "code",
   "execution_count": 101,
   "id": "f8ded4f4",
   "metadata": {},
   "outputs": [
    {
     "name": "stdout",
     "output_type": "stream",
     "text": [
      "~~~~~~~~~~~~~~~~~~~~~~~~~~~~~~~~~~~~~~~~~~~~~~~~~~~~~~~~~~~~~~~~~~~~~~~~~~~~~~~~~~~~~~~~~~~~~~~~~~~~ REAL TEXT\n"
     ]
    },
    {
     "data": {
      "text/plain": [
       "[<tf.Tensor: shape=(), dtype=string, numpy=b'bin red by g five again'>,\n",
       " <tf.Tensor: shape=(), dtype=string, numpy=b'bin green at a six now'>]"
      ]
     },
     "execution_count": 101,
     "metadata": {},
     "output_type": "execute_result"
    }
   ],
   "source": [
    "print('~'*100, 'REAL TEXT')\n",
    "[tf.strings.reduce_join([num_to_char(word) for word in sentence]) for sentence in sample[1]]"
   ]
  },
  {
   "cell_type": "code",
   "execution_count": 102,
   "id": "425a69d1",
   "metadata": {},
   "outputs": [],
   "source": [
    "decoded = tf.keras.backend.ctc_decode(yhat, input_length=[75,75], greedy=True)[0][0].numpy()"
   ]
  },
  {
   "cell_type": "code",
   "execution_count": 103,
   "id": "3791c69c",
   "metadata": {},
   "outputs": [
    {
     "name": "stdout",
     "output_type": "stream",
     "text": [
      "~~~~~~~~~~~~~~~~~~~~~~~~~~~~~~~~~~~~~~~~~~~~~~~~~~~~~~~~~~~~~~~~~~~~~~~~~~~~~~~~~~~~~~~~~~~~~~~~~~~~ PREDICTIONS\n"
     ]
    },
    {
     "data": {
      "text/plain": [
       "[<tf.Tensor: shape=(), dtype=string, numpy=b'bin red by g five again'>,\n",
       " <tf.Tensor: shape=(), dtype=string, numpy=b'bin green at a six now'>]"
      ]
     },
     "execution_count": 103,
     "metadata": {},
     "output_type": "execute_result"
    }
   ],
   "source": [
    "print('~'*100, 'PREDICTIONS')\n",
    "[tf.strings.reduce_join([num_to_char(word) for word in sentence]) for sentence in decoded]"
   ]
  },
  {
   "cell_type": "markdown",
   "id": "287e317d",
   "metadata": {},
   "source": [
    "# Test on a Video"
   ]
  },
  {
   "cell_type": "code",
   "execution_count": 123,
   "id": "98dc1c28",
   "metadata": {},
   "outputs": [],
   "source": [
    "sample = load_data(tf.convert_to_tensor('.\\\\data\\\\s1\\\\sbia2p.mpg'))"
   ]
  },
  {
   "cell_type": "code",
   "execution_count": 124,
   "id": "a1affdad",
   "metadata": {},
   "outputs": [
    {
     "name": "stdout",
     "output_type": "stream",
     "text": [
      "1/1 [==============================] - 1s 1s/step\n"
     ]
    }
   ],
   "source": [
    "yhat = model.predict(tf.expand_dims(sample[0],axis=0))"
   ]
  },
  {
   "cell_type": "code",
   "execution_count": 125,
   "id": "5211b84c",
   "metadata": {},
   "outputs": [
    {
     "data": {
      "text/plain": [
       "(1, 75, 41)"
      ]
     },
     "execution_count": 125,
     "metadata": {},
     "output_type": "execute_result"
    }
   ],
   "source": [
    "yhat.shape"
   ]
  },
  {
   "cell_type": "code",
   "execution_count": 126,
   "id": "39b4dacf",
   "metadata": {},
   "outputs": [
    {
     "name": "stdout",
     "output_type": "stream",
     "text": [
      "~~~~~~~~~~~~~~~~~~~~~~~~~~~~~~~~~~~~~~~~~~~~~~~~~~~~~~~~~~~~~~~~~~~~~~~~~~~~~~~~~~~~~~~~~~~~~~~~~~~~ REAL TEXT\n"
     ]
    },
    {
     "data": {
      "text/plain": [
       "[<tf.Tensor: shape=(), dtype=string, numpy=b'set blue in a two please'>]"
      ]
     },
     "execution_count": 126,
     "metadata": {},
     "output_type": "execute_result"
    }
   ],
   "source": [
    "print('~'*100, 'REAL TEXT')\n",
    "[tf.strings.reduce_join([num_to_char(word) for word in sentence]) for sentence in [sample[1]]]"
   ]
  },
  {
   "cell_type": "code",
   "execution_count": 127,
   "id": "98b2a09b",
   "metadata": {},
   "outputs": [],
   "source": [
    "decoded = tf.keras.backend.ctc_decode(yhat, input_length=[75], greedy=True)[0][0].numpy()"
   ]
  },
  {
   "cell_type": "code",
   "execution_count": 128,
   "id": "d64d4af5",
   "metadata": {},
   "outputs": [
    {
     "name": "stdout",
     "output_type": "stream",
     "text": [
      "~~~~~~~~~~~~~~~~~~~~~~~~~~~~~~~~~~~~~~~~~~~~~~~~~~~~~~~~~~~~~~~~~~~~~~~~~~~~~~~~~~~~~~~~~~~~~~~~~~~~ PREDICTIONS\n"
     ]
    },
    {
     "data": {
      "text/plain": [
       "[<tf.Tensor: shape=(), dtype=string, numpy=b'set blue in a two please'>]"
      ]
     },
     "execution_count": 128,
     "metadata": {},
     "output_type": "execute_result"
    }
   ],
   "source": [
    "print('~'*100, 'PREDICTIONS')\n",
    "[tf.strings.reduce_join([num_to_char(word) for word in sentence]) for sentence in decoded]"
   ]
  }
 ],
 "metadata": {
  "kernelspec": {
   "display_name": "Python 3 (ipykernel)",
   "language": "python",
   "name": "python3"
  },
  "language_info": {
   "codemirror_mode": {
    "name": "ipython",
    "version": 3
   },
   "file_extension": ".py",
   "mimetype": "text/x-python",
   "name": "python",
   "nbconvert_exporter": "python",
   "pygments_lexer": "ipython3",
   "version": "3.10.7"
  }
 },
 "nbformat": 4,
 "nbformat_minor": 5
}
